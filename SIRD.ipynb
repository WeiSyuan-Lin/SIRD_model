{
  "nbformat": 4,
  "nbformat_minor": 0,
  "metadata": {
    "colab": {
      "name": "SIRD.ipynb",
      "provenance": [],
      "collapsed_sections": []
    },
    "kernelspec": {
      "name": "python3",
      "display_name": "Python 3"
    }
  },
  "cells": [
    {
      "cell_type": "markdown",
      "metadata": {
        "id": "9Wu4nECQLM2N",
        "colab_type": "text"
      },
      "source": [
        "試用現有資料 和SIRD模型 \n",
        "找出不隨時間變化的參數 \n",
        "感染率beta \n",
        "復原率 gamma\n",
        "死亡率 mu"
      ]
    },
    {
      "cell_type": "code",
      "metadata": {
        "id": "NhNldnAucDLy",
        "colab_type": "code",
        "colab": {}
      },
      "source": [
        "import requests\n",
        "import pandas as pd\n",
        "import torch.optim as optim\n",
        "import numpy as np\n",
        "\n",
        "#收集從1月27日到九月中的資料\n",
        "DATA=[]\n"
      ],
      "execution_count": 1,
      "outputs": []
    },
    {
      "cell_type": "markdown",
      "metadata": {
        "id": "CxdpplKiK75F",
        "colab_type": "text"
      },
      "source": [
        "將每個月分的資料以月為單位讀入"
      ]
    },
    {
      "cell_type": "code",
      "metadata": {
        "id": "qhCYfWow21t0",
        "colab_type": "code",
        "colab": {}
      },
      "source": [
        "for i in range(27,32):\n",
        "  url = 'https://raw.githubusercontent.com/CSSEGISandData/COVID-19/master/csse_covid_19_data/csse_covid_19_daily_reports/01-'+str(i)+'-2020.csv'\n",
        "  res = requests.get(url, allow_redirects=True)\n",
        "  with open('covid.csv','wb') as file:\n",
        "     file.write(res.content)\n",
        "  DATA.append(pd.read_csv('covid.csv'))"
      ],
      "execution_count": 2,
      "outputs": []
    },
    {
      "cell_type": "code",
      "metadata": {
        "id": "LznBv1Kk22Az",
        "colab_type": "code",
        "colab": {}
      },
      "source": [
        "for i in range(1,30):\n",
        "  url = 'https://raw.githubusercontent.com/CSSEGISandData/COVID-19/master/csse_covid_19_data/csse_covid_19_daily_reports/02-'+str(i)+'-2020.csv'\n",
        "  res = requests.get(url, allow_redirects=True)\n",
        "  with open('covid.csv','wb') as file:\n",
        "     file.write(res.content)\n",
        "  DATA.append(pd.read_csv('covid.csv'))"
      ],
      "execution_count": 3,
      "outputs": []
    },
    {
      "cell_type": "code",
      "metadata": {
        "id": "yiKTvkXoi1Hx",
        "colab_type": "code",
        "colab": {}
      },
      "source": [
        "for i in range(1,32):\n",
        "  url = 'https://raw.githubusercontent.com/CSSEGISandData/COVID-19/master/csse_covid_19_data/csse_covid_19_daily_reports/03-'+str(i)+'-2020.csv'\n",
        "  res = requests.get(url, allow_redirects=True)\n",
        "  with open('covid.csv','wb') as file:\n",
        "     file.write(res.content)\n",
        "  DATA.append(pd.read_csv('covid.csv'))"
      ],
      "execution_count": 4,
      "outputs": []
    },
    {
      "cell_type": "code",
      "metadata": {
        "id": "cNsu6E0CgxXF",
        "colab_type": "code",
        "colab": {}
      },
      "source": [
        "for i in range(1,31):\n",
        "  url = 'https://raw.githubusercontent.com/CSSEGISandData/COVID-19/master/csse_covid_19_data/csse_covid_19_daily_reports/04-'+str(i)+'-2020.csv'\n",
        "  res = requests.get(url, allow_redirects=True)\n",
        "  with open('covid.csv','wb') as file:\n",
        "     file.write(res.content)\n",
        "  DATA.append(pd.read_csv('covid.csv'))"
      ],
      "execution_count": 5,
      "outputs": []
    },
    {
      "cell_type": "code",
      "metadata": {
        "id": "Q5FdDwTJj_bk",
        "colab_type": "code",
        "colab": {}
      },
      "source": [
        "for i in range(1,32):\n",
        "  url = 'https://raw.githubusercontent.com/CSSEGISandData/COVID-19/master/csse_covid_19_data/csse_covid_19_daily_reports/05-'+str(i)+'-2020.csv'\n",
        "  res = requests.get(url, allow_redirects=True)\n",
        "  with open('covid.csv','wb') as file:\n",
        "     file.write(res.content)\n",
        "  DATA.append(pd.read_csv('covid.csv'))"
      ],
      "execution_count": 6,
      "outputs": []
    },
    {
      "cell_type": "code",
      "metadata": {
        "id": "Gb2vr70KkEU_",
        "colab_type": "code",
        "colab": {}
      },
      "source": [
        "for i in range(1,31):\n",
        "  url = 'https://raw.githubusercontent.com/CSSEGISandData/COVID-19/master/csse_covid_19_data/csse_covid_19_daily_reports/06-'+str(i)+'-2020.csv'\n",
        "  res = requests.get(url, allow_redirects=True)\n",
        "  with open('covid.csv','wb') as file:\n",
        "     file.write(res.content)\n",
        "  DATA.append(pd.read_csv('covid.csv'))"
      ],
      "execution_count": 7,
      "outputs": []
    },
    {
      "cell_type": "code",
      "metadata": {
        "id": "Ql5mWn1AkNPM",
        "colab_type": "code",
        "colab": {}
      },
      "source": [
        "for i in range(1,32):\n",
        "  url = 'https://raw.githubusercontent.com/CSSEGISandData/COVID-19/master/csse_covid_19_data/csse_covid_19_daily_reports/07-'+str(i)+'-2020.csv'\n",
        "  res = requests.get(url, allow_redirects=True)\n",
        "  with open('covid.csv','wb') as file:\n",
        "     file.write(res.content)\n",
        "  DATA.append(pd.read_csv('covid.csv'))"
      ],
      "execution_count": 8,
      "outputs": []
    },
    {
      "cell_type": "code",
      "metadata": {
        "id": "ntoAe5_Pka4L",
        "colab_type": "code",
        "colab": {}
      },
      "source": [
        "for i in range(1,32):\n",
        "  url = 'https://raw.githubusercontent.com/CSSEGISandData/COVID-19/master/csse_covid_19_data/csse_covid_19_daily_reports/08-'+str(i)+'-2020.csv'\n",
        "  res = requests.get(url, allow_redirects=True)\n",
        "  with open('covid.csv','wb') as file:\n",
        "     file.write(res.content)\n",
        "  DATA.append(pd.read_csv('covid.csv'))"
      ],
      "execution_count": 9,
      "outputs": []
    },
    {
      "cell_type": "code",
      "metadata": {
        "id": "B7QOs-vNkjiI",
        "colab_type": "code",
        "colab": {}
      },
      "source": [
        "for i in range(1,14):\n",
        "  url = 'https://raw.githubusercontent.com/CSSEGISandData/COVID-19/master/csse_covid_19_data/csse_covid_19_daily_reports/09-'+str(i)+'-2020.csv'\n",
        "  res = requests.get(url, allow_redirects=True)\n",
        "  with open('covid.csv','wb') as file:\n",
        "     file.write(res.content)\n",
        "  DATA.append(pd.read_csv('covid.csv'))"
      ],
      "execution_count": 10,
      "outputs": []
    },
    {
      "cell_type": "markdown",
      "metadata": {
        "id": "zvaIalTQNaMd",
        "colab_type": "text"
      },
      "source": [
        "取出特定國家的資料"
      ]
    },
    {
      "cell_type": "code",
      "metadata": {
        "id": "bIAb7ZbMhAhV",
        "colab_type": "code",
        "colab": {}
      },
      "source": [
        "Data_Germany=[]\n",
        "for i in range(len(DATA)):\n",
        "  if 'Country/Region' in DATA[i] :\n",
        "    fliter = (DATA[i]['Country/Region']=='Germany')\n",
        "    if len(DATA[i][fliter])>0:\n",
        "      Data_Germany.append(DATA[i][fliter])\n",
        "  elif 'Country_Region' in DATA[i] :\n",
        "    fliter = (DATA[i]['Country_Region']=='Germany')\n",
        "    if len(DATA[i][fliter])>0:\n",
        "      Data_Germany.append(DATA[i][fliter])"
      ],
      "execution_count": 159,
      "outputs": []
    },
    {
      "cell_type": "markdown",
      "metadata": {
        "id": "rsEFum1tPFcH",
        "colab_type": "text"
      },
      "source": [
        "取得每天的 S(疑似) I(感染) R(復原) D(死亡) 資料"
      ]
    },
    {
      "cell_type": "code",
      "metadata": {
        "id": "cyhygeXMW10d",
        "colab_type": "code",
        "colab": {}
      },
      "source": [
        "def take_SIRD_data(Data):\n",
        "  St=[]\n",
        "  for i in range(len(Data_Germany)):\n",
        "    St.append(Data_Germany[i]['Confirmed'].sum())\n",
        "  St=np.array(St)\n",
        "  It=[]\n",
        "  for i in range(len(Data_Germany)):\n",
        "    It.append(Data_Germany[i]['Confirmed'].sum()-Data_Germany[i]['Deaths'].sum()-Data_Germany[i]['Recovered'].sum())\n",
        "  It=np.array(It)\n",
        "  Rt=[]\n",
        "  for i in range(len(Data_Germany)):\n",
        "    Rt.append(Data_Germany[i]['Recovered'].sum())\n",
        "  Rt=np.array(Rt)\n",
        "  Dt=[]\n",
        "  for i in range(len(Data_Germany)):\n",
        "    Dt.append(Data_Germany[i]['Deaths'].sum())\n",
        "  Dt=np.array(Dt)\n",
        "\n",
        "  return St,It,Rt,Dt"
      ],
      "execution_count": 359,
      "outputs": []
    },
    {
      "cell_type": "code",
      "metadata": {
        "id": "OK4gt8WOXb4B",
        "colab_type": "code",
        "colab": {}
      },
      "source": [
        "[St,It,Rt,Dt]=take_SIRD_data(Data_Germany)"
      ],
      "execution_count": 368,
      "outputs": []
    },
    {
      "cell_type": "code",
      "metadata": {
        "id": "p5V8Xv6-XjpE",
        "colab_type": "code",
        "colab": {}
      },
      "source": [
        ""
      ],
      "execution_count": 367,
      "outputs": []
    },
    {
      "cell_type": "code",
      "metadata": {
        "id": "_SI_QxSsWt2w",
        "colab_type": "code",
        "colab": {}
      },
      "source": [
        "#國家人口數據 論文內有附上\n",
        "population_N=83.02*1000000\n",
        "St=St[0:3]\n",
        "It=It[0:3]\n",
        "Rt=Rt[0:3]\n",
        "Dt=Dt[0:3]"
      ],
      "execution_count": 339,
      "outputs": []
    },
    {
      "cell_type": "code",
      "metadata": {
        "id": "64dZ6me1WLCO",
        "colab_type": "code",
        "colab": {}
      },
      "source": [
        "import numpy as np\n",
        "from scipy.optimize import minimize\n",
        "\n",
        "def objective(x):\n",
        "\n",
        "  #參數 dt 單位天數\n",
        "  dt=1\n",
        "  beta=x[0]\n",
        "  gamma=x[1]\n",
        "  mu=x[2]\n",
        "  \n",
        "  #藉由finite difference method 做出下一個時間點的預測\n",
        "\n",
        "  St_pred=St*(1-dt*beta*It/population_N)\n",
        "  It_pred=It*(1+dt*(beta*St/population_N)-dt*(mu+gamma))\n",
        "  Rt_pred=Rt+(dt*gamma*It)\n",
        "  Dt_pred=Dt+(dt*mu*It)\n",
        "  \n",
        "  # loss function 只取用論文中使用的loss function的前兩項\n",
        "  loss=0.01*np.log(np.max(It))/np.max(It)*((It[1:len(It)]-It_pred[0:len(It_pred)-1])**2).sum()+((np.log(It[1:len(It)]+0.0000001)-np.log(It_pred[0:len(It_pred)-1]+0.000001))**2).sum()+0.01*np.log(np.max(It))/np.max(It)*((Dt[1:len(Dt)]-Dt_pred[0:len(Dt_pred)-1])**2).sum()+((np.log(Dt[1:len(Dt)]+0.0000001)-np.log(Dt_pred[0:len(Dt_pred)-1]+0.0000001))**2).sum()                                                                                                                   \n",
        "  return loss\n"
      ],
      "execution_count": 340,
      "outputs": []
    },
    {
      "cell_type": "code",
      "metadata": {
        "id": "ldzMiVbzd4Lv",
        "colab_type": "code",
        "colab": {}
      },
      "source": [
        ""
      ],
      "execution_count": 318,
      "outputs": []
    },
    {
      "cell_type": "code",
      "metadata": {
        "id": "d1tFj958Y3bc",
        "colab_type": "code",
        "colab": {}
      },
      "source": [
        "\n",
        "# initial guesses\n",
        "beta = 0.5\n",
        "gamma = 0.5\n",
        "mu = 0.5\n",
        "population_N\n",
        "n = 3\n",
        "x0 = np.zeros(n)\n",
        "x0[0] = beta\n",
        "x0[1] = gamma\n",
        "x0[2] = mu\n",
        "b = (0.0,1.0)\n",
        "bnds = (b, b, b)"
      ],
      "execution_count": 341,
      "outputs": []
    },
    {
      "cell_type": "code",
      "metadata": {
        "id": "Ku0TbM5kAL0G",
        "colab_type": "code",
        "colab": {}
      },
      "source": [
        "\n"
      ],
      "execution_count": 319,
      "outputs": []
    },
    {
      "cell_type": "code",
      "metadata": {
        "id": "KPDQWo32aAN7",
        "colab_type": "code",
        "colab": {}
      },
      "source": [
        "Sol=minimize(objective,x0,bounds=bnds)#,bounds=bnds"
      ],
      "execution_count": 342,
      "outputs": []
    },
    {
      "cell_type": "code",
      "metadata": {
        "id": "O7IeTmPBiVuc",
        "colab_type": "code",
        "colab": {
          "base_uri": "https://localhost:8080/",
          "height": 173
        },
        "outputId": "78d35916-9fe8-4838-f38e-7dc1a9e68d88"
      },
      "source": [
        "Sol"
      ],
      "execution_count": 343,
      "outputs": [
        {
          "output_type": "execute_result",
          "data": {
            "text/plain": [
              "      fun: 1.5670403252685879e-12\n",
              " hess_inv: <3x3 LbfgsInvHessProduct with dtype=float64>\n",
              "      jac: array([-2.41895278e-13,  3.65244329e-06,  2.26427132e+07])\n",
              "  message: b'CONVERGENCE: NORM_OF_PROJECTED_GRADIENT_<=_PGTOL'\n",
              "     nfev: 140\n",
              "      nit: 21\n",
              "   status: 0\n",
              "  success: True\n",
              "        x: array([1.00000000e+00, 1.12149645e-06, 0.00000000e+00])"
            ]
          },
          "metadata": {
            "tags": []
          },
          "execution_count": 343
        }
      ]
    },
    {
      "cell_type": "code",
      "metadata": {
        "id": "1fItTPWyYt50",
        "colab_type": "code",
        "colab": {
          "base_uri": "https://localhost:8080/",
          "height": 35
        },
        "outputId": "a5bb0cae-4797-454c-f0ae-0fba55c5e806"
      },
      "source": [
        "objective(Sol.x)"
      ],
      "execution_count": 344,
      "outputs": [
        {
          "output_type": "execute_result",
          "data": {
            "text/plain": [
              "1.5670403252685879e-12"
            ]
          },
          "metadata": {
            "tags": []
          },
          "execution_count": 344
        }
      ]
    },
    {
      "cell_type": "code",
      "metadata": {
        "id": "wMA-o0yZioPA",
        "colab_type": "code",
        "colab": {}
      },
      "source": [
        "beta=Sol.x[0]\n",
        "gamma=Sol.x[1]\n",
        "mu=Sol.x[2]\n",
        "dt=1\n",
        "\n",
        "St_pred=St*(1-dt*beta*It/population_N)\n",
        "\n",
        "It_pred=It*(1+dt*(beta*St/population_N)-(mu+gamma))\n",
        "\n",
        "Rt_pred=Rt+(dt*gamma*It)\n",
        "\n",
        "Dt_pred=Dt+(dt*mu*It)\n"
      ],
      "execution_count": 345,
      "outputs": []
    },
    {
      "cell_type": "code",
      "metadata": {
        "id": "fYgcT2IsTw6E",
        "colab_type": "code",
        "colab": {
          "base_uri": "https://localhost:8080/",
          "height": 35
        },
        "outputId": "2950b73a-e3db-4f44-bece-2373396b2859"
      },
      "source": [
        "St_pred=St*(1-dt*beta*It/population_N)\n",
        "\n",
        "It_pred=It*(1+dt*(beta*St/population_N)-(mu+gamma))\n",
        "\n",
        "Rt_pred=Rt+(dt*gamma*It)\n",
        "\n",
        "Dt_pred=Dt+(dt*mu*It)\n",
        "\n",
        "[beta, gamma ,mu]"
      ],
      "execution_count": 354,
      "outputs": [
        {
          "output_type": "execute_result",
          "data": {
            "text/plain": [
              "[1.0, 1.1214964487927055e-06, 0.0]"
            ]
          },
          "metadata": {
            "tags": []
          },
          "execution_count": 354
        }
      ]
    },
    {
      "cell_type": "code",
      "metadata": {
        "id": "WTIfkIgPjKEx",
        "colab_type": "code",
        "colab": {
          "base_uri": "https://localhost:8080/",
          "height": 299
        },
        "outputId": "338f6de6-e193-4a03-c8f5-61cee6950c99"
      },
      "source": [
        "import matplotlib.pyplot as plt\n",
        "dat=np.linspace(0,len(Dt)-1,len(Dt)-1)\n",
        "plt.plot(dat,np.log(Dt_pred[0:len(Dt_pred)-1]+0.00001))\n",
        "plt.plot(dat,np.log(Dt[0:len(Dt)-1]+0.00001))\n",
        "plt.title('Death')"
      ],
      "execution_count": 355,
      "outputs": [
        {
          "output_type": "execute_result",
          "data": {
            "text/plain": [
              "Text(0.5, 1.0, 'Death')"
            ]
          },
          "metadata": {
            "tags": []
          },
          "execution_count": 355
        },
        {
          "output_type": "display_data",
          "data": {
            "image/png": "[encoded data removed]",
            "text/plain": [
              "<Figure size 432x288 with 1 Axes>"
            ]
          },
          "metadata": {
            "tags": [],
            "needs_background": "light"
          }
        }
      ]
    },
    {
      "cell_type": "code",
      "metadata": {
        "id": "K-UhWieckp9a",
        "colab_type": "code",
        "colab": {
          "base_uri": "https://localhost:8080/",
          "height": 299
        },
        "outputId": "9a72b9d3-8fc0-4433-ae2d-ed990678552b"
      },
      "source": [
        "dat=np.linspace(0,len(It_pred)-1,len(It_pred)-1)\n",
        "plt.plot(dat,It_pred[0:len(It_pred)-1])\n",
        "plt.plot(dat,It[0:len(It)-1])\n",
        "plt.title('I')"
      ],
      "execution_count": 356,
      "outputs": [
        {
          "output_type": "execute_result",
          "data": {
            "text/plain": [
              "Text(0.5, 1.0, 'I')"
            ]
          },
          "metadata": {
            "tags": []
          },
          "execution_count": 356
        },
        {
          "output_type": "display_data",
          "data": {
            "image/png": "[encoded data removed]",
            "text/plain": [
              "<Figure size 432x288 with 1 Axes>"
            ]
          },
          "metadata": {
            "tags": [],
            "needs_background": "light"
          }
        }
      ]
    },
    {
      "cell_type": "code",
      "metadata": {
        "id": "S2fdEZq2ldRA",
        "colab_type": "code",
        "colab": {
          "base_uri": "https://localhost:8080/",
          "height": 299
        },
        "outputId": "c96679c9-3999-4dc1-f22b-4e92ff2eccff"
      },
      "source": [
        "dat=np.linspace(0,len(St_pred)-1,len(St_pred)-1)\n",
        "plt.plot(dat,St_pred[0:len(St_pred)-1])\n",
        "plt.plot(dat,St[0:len(St)-1])\n",
        "plt.title('S')"
      ],
      "execution_count": 357,
      "outputs": [
        {
          "output_type": "execute_result",
          "data": {
            "text/plain": [
              "Text(0.5, 1.0, 'S')"
            ]
          },
          "metadata": {
            "tags": []
          },
          "execution_count": 357
        },
        {
          "output_type": "display_data",
          "data": {
            "image/png": "[encoded data removed]",
            "text/plain": [
              "<Figure size 432x288 with 1 Axes>"
            ]
          },
          "metadata": {
            "tags": [],
            "needs_background": "light"
          }
        }
      ]
    },
    {
      "cell_type": "code",
      "metadata": {
        "id": "WQ02EPOz5B8r",
        "colab_type": "code",
        "colab": {}
      },
      "source": [
        ""
      ],
      "execution_count": 357,
      "outputs": []
    },
    {
      "cell_type": "code",
      "metadata": {
        "id": "pzn0b1tDmFeN",
        "colab_type": "code",
        "colab": {
          "base_uri": "https://localhost:8080/",
          "height": 299
        },
        "outputId": "202d9caa-0797-4db8-e08c-1eb9b60a42f4"
      },
      "source": [
        "dat=np.linspace(0,len(Rt_pred)-1,len(Rt_pred)-1)\n",
        "plt.plot(dat,Rt_pred[0:len(Rt_pred)-1])\n",
        "plt.plot(dat,Rt[0:len(Rt)-1])\n",
        "plt.title('R')"
      ],
      "execution_count": 358,
      "outputs": [
        {
          "output_type": "execute_result",
          "data": {
            "text/plain": [
              "Text(0.5, 1.0, 'R')"
            ]
          },
          "metadata": {
            "tags": []
          },
          "execution_count": 358
        },
        {
          "output_type": "display_data",
          "data": {
            "image/png": "[encoded data removed]",
            "text/plain": [
              "<Figure size 432x288 with 1 Axes>"
            ]
          },
          "metadata": {
            "tags": [],
            "needs_background": "light"
          }
        }
      ]
    },
    {
      "cell_type": "code",
      "metadata": {
        "id": "22H6Q9j2w9Ph",
        "colab_type": "code",
        "colab": {}
      },
      "source": [
        ""
      ],
      "execution_count": 121,
      "outputs": []
    },
    {
      "cell_type": "code",
      "metadata": {
        "id": "meii0KIb5hv7",
        "colab_type": "code",
        "colab": {}
      },
      "source": [
        ""
      ],
      "execution_count": 121,
      "outputs": []
    },
    {
      "cell_type": "code",
      "metadata": {
        "id": "a-OuUJZx7khz",
        "colab_type": "code",
        "colab": {}
      },
      "source": [
        ""
      ],
      "execution_count": 121,
      "outputs": []
    },
    {
      "cell_type": "code",
      "metadata": {
        "id": "8JqOd3TiukYu",
        "colab_type": "code",
        "colab": {}
      },
      "source": [
        ""
      ],
      "execution_count": 121,
      "outputs": []
    },
    {
      "cell_type": "code",
      "metadata": {
        "id": "JImTnNWiym6L",
        "colab_type": "code",
        "colab": {}
      },
      "source": [
        ""
      ],
      "execution_count": 121,
      "outputs": []
    },
    {
      "cell_type": "code",
      "metadata": {
        "id": "0KmmyGDmyyL3",
        "colab_type": "code",
        "colab": {}
      },
      "source": [
        ""
      ],
      "execution_count": null,
      "outputs": []
    }
  ]
}