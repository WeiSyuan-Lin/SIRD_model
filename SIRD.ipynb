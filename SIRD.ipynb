{
  "nbformat": 4,
  "nbformat_minor": 0,
  "metadata": {
    "colab": {
      "name": "SIRD.ipynb",
      "provenance": [],
      "collapsed_sections": []
    },
    "kernelspec": {
      "name": "python3",
      "display_name": "Python 3"
    }
  },
  "cells": [
    {
      "cell_type": "code",
      "metadata": {
        "id": "NhNldnAucDLy",
        "colab_type": "code",
        "colab": {}
      },
      "source": [
        "import requests\n",
        "import pandas as pd\n",
        "import torch.optim as optim\n",
        "import numpy as np\n",
        "DATA=[]\n"
      ],
      "execution_count": 1,
      "outputs": []
    },
    {
      "cell_type": "code",
      "metadata": {
        "id": "qhCYfWow21t0",
        "colab_type": "code",
        "colab": {}
      },
      "source": [
        "for i in range(27,32):\n",
        "  url = 'https://raw.githubusercontent.com/CSSEGISandData/COVID-19/master/csse_covid_19_data/csse_covid_19_daily_reports/01-'+str(i)+'-2020.csv'\n",
        "  res = requests.get(url, allow_redirects=True)\n",
        "  with open('covid.csv','wb') as file:\n",
        "     file.write(res.content)\n",
        "  DATA.append(pd.read_csv('covid.csv'))"
      ],
      "execution_count": 2,
      "outputs": []
    },
    {
      "cell_type": "code",
      "metadata": {
        "id": "LznBv1Kk22Az",
        "colab_type": "code",
        "colab": {}
      },
      "source": [
        "for i in range(1,30):\n",
        "  url = 'https://raw.githubusercontent.com/CSSEGISandData/COVID-19/master/csse_covid_19_data/csse_covid_19_daily_reports/02-'+str(i)+'-2020.csv'\n",
        "  res = requests.get(url, allow_redirects=True)\n",
        "  with open('covid.csv','wb') as file:\n",
        "     file.write(res.content)\n",
        "  DATA.append(pd.read_csv('covid.csv'))"
      ],
      "execution_count": 3,
      "outputs": []
    },
    {
      "cell_type": "code",
      "metadata": {
        "id": "yiKTvkXoi1Hx",
        "colab_type": "code",
        "colab": {}
      },
      "source": [
        "for i in range(1,32):\n",
        "  url = 'https://raw.githubusercontent.com/CSSEGISandData/COVID-19/master/csse_covid_19_data/csse_covid_19_daily_reports/03-'+str(i)+'-2020.csv'\n",
        "  res = requests.get(url, allow_redirects=True)\n",
        "  with open('covid.csv','wb') as file:\n",
        "     file.write(res.content)\n",
        "  DATA.append(pd.read_csv('covid.csv'))"
      ],
      "execution_count": 4,
      "outputs": []
    },
    {
      "cell_type": "code",
      "metadata": {
        "id": "cNsu6E0CgxXF",
        "colab_type": "code",
        "colab": {}
      },
      "source": [
        "for i in range(1,31):\n",
        "  url = 'https://raw.githubusercontent.com/CSSEGISandData/COVID-19/master/csse_covid_19_data/csse_covid_19_daily_reports/04-'+str(i)+'-2020.csv'\n",
        "  res = requests.get(url, allow_redirects=True)\n",
        "  with open('covid.csv','wb') as file:\n",
        "     file.write(res.content)\n",
        "  DATA.append(pd.read_csv('covid.csv'))"
      ],
      "execution_count": 5,
      "outputs": []
    },
    {
      "cell_type": "code",
      "metadata": {
        "id": "Q5FdDwTJj_bk",
        "colab_type": "code",
        "colab": {}
      },
      "source": [
        "for i in range(1,32):\n",
        "  url = 'https://raw.githubusercontent.com/CSSEGISandData/COVID-19/master/csse_covid_19_data/csse_covid_19_daily_reports/05-'+str(i)+'-2020.csv'\n",
        "  res = requests.get(url, allow_redirects=True)\n",
        "  with open('covid.csv','wb') as file:\n",
        "     file.write(res.content)\n",
        "  DATA.append(pd.read_csv('covid.csv'))"
      ],
      "execution_count": 6,
      "outputs": []
    },
    {
      "cell_type": "code",
      "metadata": {
        "id": "Gb2vr70KkEU_",
        "colab_type": "code",
        "colab": {}
      },
      "source": [
        "for i in range(1,31):\n",
        "  url = 'https://raw.githubusercontent.com/CSSEGISandData/COVID-19/master/csse_covid_19_data/csse_covid_19_daily_reports/06-'+str(i)+'-2020.csv'\n",
        "  res = requests.get(url, allow_redirects=True)\n",
        "  with open('covid.csv','wb') as file:\n",
        "     file.write(res.content)\n",
        "  DATA.append(pd.read_csv('covid.csv'))"
      ],
      "execution_count": 7,
      "outputs": []
    },
    {
      "cell_type": "code",
      "metadata": {
        "id": "Ql5mWn1AkNPM",
        "colab_type": "code",
        "colab": {}
      },
      "source": [
        "for i in range(1,32):\n",
        "  url = 'https://raw.githubusercontent.com/CSSEGISandData/COVID-19/master/csse_covid_19_data/csse_covid_19_daily_reports/07-'+str(i)+'-2020.csv'\n",
        "  res = requests.get(url, allow_redirects=True)\n",
        "  with open('covid.csv','wb') as file:\n",
        "     file.write(res.content)\n",
        "  DATA.append(pd.read_csv('covid.csv'))"
      ],
      "execution_count": 8,
      "outputs": []
    },
    {
      "cell_type": "code",
      "metadata": {
        "id": "ntoAe5_Pka4L",
        "colab_type": "code",
        "colab": {}
      },
      "source": [
        "for i in range(1,32):\n",
        "  url = 'https://raw.githubusercontent.com/CSSEGISandData/COVID-19/master/csse_covid_19_data/csse_covid_19_daily_reports/08-'+str(i)+'-2020.csv'\n",
        "  res = requests.get(url, allow_redirects=True)\n",
        "  with open('covid.csv','wb') as file:\n",
        "     file.write(res.content)\n",
        "  DATA.append(pd.read_csv('covid.csv'))"
      ],
      "execution_count": 9,
      "outputs": []
    },
    {
      "cell_type": "code",
      "metadata": {
        "id": "B7QOs-vNkjiI",
        "colab_type": "code",
        "colab": {}
      },
      "source": [
        "for i in range(1,14):\n",
        "  url = 'https://raw.githubusercontent.com/CSSEGISandData/COVID-19/master/csse_covid_19_data/csse_covid_19_daily_reports/09-'+str(i)+'-2020.csv'\n",
        "  res = requests.get(url, allow_redirects=True)\n",
        "  with open('covid.csv','wb') as file:\n",
        "     file.write(res.content)\n",
        "  DATA.append(pd.read_csv('covid.csv'))"
      ],
      "execution_count": 10,
      "outputs": []
    },
    {
      "cell_type": "code",
      "metadata": {
        "id": "bIAb7ZbMhAhV",
        "colab_type": "code",
        "colab": {}
      },
      "source": [
        "Data_Germany=[]\n",
        "for i in range(len(DATA)):\n",
        "  if 'Country/Region' in DATA[i] :\n",
        "    fliter = (DATA[i]['Country/Region']=='US')\n",
        "    if len(DATA[i][fliter])>0:\n",
        "      Data_Germany.append(DATA[i][fliter])\n",
        "  elif 'Country_Region' in DATA[i] :\n",
        "    fliter = (DATA[i]['Country_Region']=='US')\n",
        "    if len(DATA[i][fliter])>0:\n",
        "      Data_Germany.append(DATA[i][fliter])"
      ],
      "execution_count": 142,
      "outputs": []
    },
    {
      "cell_type": "code",
      "metadata": {
        "id": "OLGxt9NhjthD",
        "colab_type": "code",
        "colab": {
          "base_uri": "https://localhost:8080/",
          "height": 574
        },
        "outputId": "bc7c77f0-e283-4fdc-d53c-339f6c3bf756"
      },
      "source": [
        "len(Data_Germany)\n",
        "Data_Germany[100]"
      ],
      "execution_count": 103,
      "outputs": [
        {
          "output_type": "execute_result",
          "data": {
            "text/html": [
              "<div>\n",
              "<style scoped>\n",
              "    .dataframe tbody tr th:only-of-type {\n",
              "        vertical-align: middle;\n",
              "    }\n",
              "\n",
              "    .dataframe tbody tr th {\n",
              "        vertical-align: top;\n",
              "    }\n",
              "\n",
              "    .dataframe thead th {\n",
              "        text-align: right;\n",
              "    }\n",
              "</style>\n",
              "<table border=\"1\" class=\"dataframe\">\n",
              "  <thead>\n",
              "    <tr style=\"text-align: right;\">\n",
              "      <th></th>\n",
              "      <th>FIPS</th>\n",
              "      <th>Admin2</th>\n",
              "      <th>Province_State</th>\n",
              "      <th>Country_Region</th>\n",
              "      <th>Last_Update</th>\n",
              "      <th>Lat</th>\n",
              "      <th>Long_</th>\n",
              "      <th>Confirmed</th>\n",
              "      <th>Deaths</th>\n",
              "      <th>Recovered</th>\n",
              "      <th>Active</th>\n",
              "      <th>Combined_Key</th>\n",
              "      <th>Incidence_Rate</th>\n",
              "      <th>Case-Fatality_Ratio</th>\n",
              "    </tr>\n",
              "  </thead>\n",
              "  <tbody>\n",
              "    <tr>\n",
              "      <th>3113</th>\n",
              "      <td>NaN</td>\n",
              "      <td>NaN</td>\n",
              "      <td>Australian Capital Territory</td>\n",
              "      <td>Australia</td>\n",
              "      <td>2020-06-21 04:33:19</td>\n",
              "      <td>-35.4735</td>\n",
              "      <td>149.0124</td>\n",
              "      <td>108</td>\n",
              "      <td>3</td>\n",
              "      <td>105</td>\n",
              "      <td>0</td>\n",
              "      <td>Australian Capital Territory, Australia</td>\n",
              "      <td>25.227751</td>\n",
              "      <td>2.777778</td>\n",
              "    </tr>\n",
              "    <tr>\n",
              "      <th>3374</th>\n",
              "      <td>NaN</td>\n",
              "      <td>NaN</td>\n",
              "      <td>New South Wales</td>\n",
              "      <td>Australia</td>\n",
              "      <td>2020-06-21 04:33:19</td>\n",
              "      <td>-33.8688</td>\n",
              "      <td>151.2093</td>\n",
              "      <td>3149</td>\n",
              "      <td>48</td>\n",
              "      <td>2771</td>\n",
              "      <td>330</td>\n",
              "      <td>New South Wales, Australia</td>\n",
              "      <td>38.790342</td>\n",
              "      <td>1.524293</td>\n",
              "    </tr>\n",
              "    <tr>\n",
              "      <th>3386</th>\n",
              "      <td>NaN</td>\n",
              "      <td>NaN</td>\n",
              "      <td>Northern Territory</td>\n",
              "      <td>Australia</td>\n",
              "      <td>2020-06-21 04:33:19</td>\n",
              "      <td>-12.4634</td>\n",
              "      <td>130.8456</td>\n",
              "      <td>29</td>\n",
              "      <td>0</td>\n",
              "      <td>29</td>\n",
              "      <td>0</td>\n",
              "      <td>Northern Territory, Australia</td>\n",
              "      <td>11.807818</td>\n",
              "      <td>0.000000</td>\n",
              "    </tr>\n",
              "    <tr>\n",
              "      <th>3435</th>\n",
              "      <td>NaN</td>\n",
              "      <td>NaN</td>\n",
              "      <td>Queensland</td>\n",
              "      <td>Australia</td>\n",
              "      <td>2020-06-21 04:33:19</td>\n",
              "      <td>-27.4698</td>\n",
              "      <td>153.0251</td>\n",
              "      <td>1066</td>\n",
              "      <td>6</td>\n",
              "      <td>1053</td>\n",
              "      <td>7</td>\n",
              "      <td>Queensland, Australia</td>\n",
              "      <td>20.838628</td>\n",
              "      <td>0.562852</td>\n",
              "    </tr>\n",
              "    <tr>\n",
              "      <th>3493</th>\n",
              "      <td>NaN</td>\n",
              "      <td>NaN</td>\n",
              "      <td>South Australia</td>\n",
              "      <td>Australia</td>\n",
              "      <td>2020-06-21 04:33:19</td>\n",
              "      <td>-34.9285</td>\n",
              "      <td>138.6007</td>\n",
              "      <td>440</td>\n",
              "      <td>4</td>\n",
              "      <td>436</td>\n",
              "      <td>0</td>\n",
              "      <td>South Australia, Australia</td>\n",
              "      <td>25.049815</td>\n",
              "      <td>0.909091</td>\n",
              "    </tr>\n",
              "    <tr>\n",
              "      <th>3506</th>\n",
              "      <td>NaN</td>\n",
              "      <td>NaN</td>\n",
              "      <td>Tasmania</td>\n",
              "      <td>Australia</td>\n",
              "      <td>2020-06-21 04:33:19</td>\n",
              "      <td>-42.8821</td>\n",
              "      <td>147.3272</td>\n",
              "      <td>228</td>\n",
              "      <td>13</td>\n",
              "      <td>215</td>\n",
              "      <td>0</td>\n",
              "      <td>Tasmania, Australia</td>\n",
              "      <td>42.577031</td>\n",
              "      <td>5.701754</td>\n",
              "    </tr>\n",
              "    <tr>\n",
              "      <th>3557</th>\n",
              "      <td>NaN</td>\n",
              "      <td>NaN</td>\n",
              "      <td>Victoria</td>\n",
              "      <td>Australia</td>\n",
              "      <td>2020-06-21 04:33:19</td>\n",
              "      <td>-37.8136</td>\n",
              "      <td>144.9631</td>\n",
              "      <td>1836</td>\n",
              "      <td>19</td>\n",
              "      <td>1694</td>\n",
              "      <td>123</td>\n",
              "      <td>Victoria, Australia</td>\n",
              "      <td>27.692725</td>\n",
              "      <td>1.034858</td>\n",
              "    </tr>\n",
              "    <tr>\n",
              "      <th>3568</th>\n",
              "      <td>NaN</td>\n",
              "      <td>NaN</td>\n",
              "      <td>Western Australia</td>\n",
              "      <td>Australia</td>\n",
              "      <td>2020-06-21 04:33:19</td>\n",
              "      <td>-31.9505</td>\n",
              "      <td>115.8605</td>\n",
              "      <td>605</td>\n",
              "      <td>9</td>\n",
              "      <td>593</td>\n",
              "      <td>3</td>\n",
              "      <td>Western Australia, Australia</td>\n",
              "      <td>22.998555</td>\n",
              "      <td>1.487603</td>\n",
              "    </tr>\n",
              "  </tbody>\n",
              "</table>\n",
              "</div>"
            ],
            "text/plain": [
              "      FIPS Admin2  ... Incidence_Rate Case-Fatality_Ratio\n",
              "3113   NaN    NaN  ...      25.227751            2.777778\n",
              "3374   NaN    NaN  ...      38.790342            1.524293\n",
              "3386   NaN    NaN  ...      11.807818            0.000000\n",
              "3435   NaN    NaN  ...      20.838628            0.562852\n",
              "3493   NaN    NaN  ...      25.049815            0.909091\n",
              "3506   NaN    NaN  ...      42.577031            5.701754\n",
              "3557   NaN    NaN  ...      27.692725            1.034858\n",
              "3568   NaN    NaN  ...      22.998555            1.487603\n",
              "\n",
              "[8 rows x 14 columns]"
            ]
          },
          "metadata": {
            "tags": []
          },
          "execution_count": 103
        }
      ]
    },
    {
      "cell_type": "code",
      "metadata": {
        "id": "nvA0yL6Yowb2",
        "colab_type": "code",
        "colab": {}
      },
      "source": [
        ""
      ],
      "execution_count": 103,
      "outputs": []
    },
    {
      "cell_type": "code",
      "metadata": {
        "id": "Nibmbxqcvt_g",
        "colab_type": "code",
        "colab": {}
      },
      "source": [
        ""
      ],
      "execution_count": 103,
      "outputs": []
    },
    {
      "cell_type": "code",
      "metadata": {
        "id": "lgCK8cLcrGII",
        "colab_type": "code",
        "colab": {}
      },
      "source": [
        "population_N=327.2*1000000\n"
      ],
      "execution_count": 143,
      "outputs": []
    },
    {
      "cell_type": "code",
      "metadata": {
        "id": "JbmGHlsMwxGQ",
        "colab_type": "code",
        "colab": {}
      },
      "source": [
        "St=[]\n",
        "for i in range(len(Data_Germany)):\n",
        "  St.append(Data_Germany[i]['Confirmed'].sum())\n",
        "St=np.array(St)"
      ],
      "execution_count": 144,
      "outputs": []
    },
    {
      "cell_type": "code",
      "metadata": {
        "id": "IJKo-4TULHnY",
        "colab_type": "code",
        "colab": {}
      },
      "source": [
        "It=[]\n",
        "for i in range(len(Data_Germany)):\n",
        "  It.append(Data_Germany[i]['Confirmed'].sum()-Data_Germany[i]['Deaths'].sum()-Data_Germany[i]['Recovered'].sum())\n",
        "It=np.array(It)"
      ],
      "execution_count": 145,
      "outputs": []
    },
    {
      "cell_type": "code",
      "metadata": {
        "id": "xYpncd2fLHyR",
        "colab_type": "code",
        "colab": {}
      },
      "source": [
        "Rt=[]\n",
        "for i in range(len(Data_Germany)):\n",
        "  Rt.append(Data_Germany[i]['Recovered'].sum())\n",
        "Rt=np.array(Rt)"
      ],
      "execution_count": 146,
      "outputs": []
    },
    {
      "cell_type": "code",
      "metadata": {
        "id": "IGA5mPBzLH9O",
        "colab_type": "code",
        "colab": {}
      },
      "source": [
        "Dt=[]\n",
        "for i in range(len(Data_Germany)):\n",
        "  Dt.append(Data_Germany[i]['Deaths'].sum())\n",
        "Dt=np.array(Dt)"
      ],
      "execution_count": 147,
      "outputs": []
    },
    {
      "cell_type": "code",
      "metadata": {
        "id": "_SI_QxSsWt2w",
        "colab_type": "code",
        "colab": {}
      },
      "source": [
        ""
      ],
      "execution_count": 108,
      "outputs": []
    },
    {
      "cell_type": "code",
      "metadata": {
        "id": "5UPX-KLLLIIi",
        "colab_type": "code",
        "colab": {}
      },
      "source": [
        ""
      ],
      "execution_count": 141,
      "outputs": []
    },
    {
      "cell_type": "code",
      "metadata": {
        "id": "g0DdFaW-VKmN",
        "colab_type": "code",
        "colab": {}
      },
      "source": [
        ""
      ],
      "execution_count": 141,
      "outputs": []
    },
    {
      "cell_type": "code",
      "metadata": {
        "id": "JGNXJVDXRAWB",
        "colab_type": "code",
        "colab": {}
      },
      "source": [
        ""
      ],
      "execution_count": 141,
      "outputs": []
    },
    {
      "cell_type": "code",
      "metadata": {
        "id": "64dZ6me1WLCO",
        "colab_type": "code",
        "colab": {}
      },
      "source": [
        "import numpy as np\n",
        "from scipy.optimize import minimize\n",
        "\n",
        "def objective(x):\n",
        "  dt=1\n",
        "  beta=x[0]\n",
        "  gamma=x[1]\n",
        "  mu=x[2]\n",
        "  St_pred=St*(1-dt*beta*It/population_N)\n",
        "  It_pred=It*(1+dt*(beta*St/population_N)-dt*(mu+gamma))\n",
        "  Rt_pred=Rt+(dt*gamma*It)\n",
        "  Dt_pred=Dt+(dt*mu*It)\n",
        "  #((St[1:len(St)]-St_pred[0:len(St_pred)-1])**2).sum()+\n",
        "  #+((Rt[1:len(Rt)]-Rt_pred[0:len(Rt_pred)-1])**2).sum()\n",
        "  loss=0.01*np.log(np.max(It))/np.max(It)*((It[1:len(It)]-It_pred[0:len(It_pred)-1])**2).sum()+((np.log(It[1:len(It)]+0.0000001)-np.log(It_pred[0:len(It_pred)-1]+0.000001))**2).sum()+0.01*np.log(np.max(It))/np.max(It)*((Dt[1:len(Dt)]-Dt_pred[0:len(Dt_pred)-1])**2).sum()+((np.log(Dt[1:len(Dt)]+0.0000001)-np.log(Dt_pred[0:len(Dt_pred)-1]+0.0000001))**2).sum()\n",
        "  return loss\n"
      ],
      "execution_count": 148,
      "outputs": []
    },
    {
      "cell_type": "code",
      "metadata": {
        "id": "ldzMiVbzd4Lv",
        "colab_type": "code",
        "colab": {}
      },
      "source": [
        ""
      ],
      "execution_count": 149,
      "outputs": []
    },
    {
      "cell_type": "code",
      "metadata": {
        "id": "d1tFj958Y3bc",
        "colab_type": "code",
        "colab": {}
      },
      "source": [
        "\n",
        "# initial guesses\n",
        "beta = 0.5\n",
        "gamma = 0.5\n",
        "mu = 0.5\n",
        "population_N\n",
        "n = 3\n",
        "x0 = np.zeros(n)\n",
        "x0[0] = beta\n",
        "x0[1] = gamma\n",
        "x0[2] = mu\n",
        "b = (0.0,1.0)\n",
        "bnds = (b, b, b)"
      ],
      "execution_count": 150,
      "outputs": []
    },
    {
      "cell_type": "code",
      "metadata": {
        "id": "Ku0TbM5kAL0G",
        "colab_type": "code",
        "colab": {}
      },
      "source": [
        "\n"
      ],
      "execution_count": 125,
      "outputs": []
    },
    {
      "cell_type": "code",
      "metadata": {
        "id": "KPDQWo32aAN7",
        "colab_type": "code",
        "colab": {}
      },
      "source": [
        "Sol=minimize(objective,x0,bounds=bnds)#,bounds=bnds"
      ],
      "execution_count": 151,
      "outputs": []
    },
    {
      "cell_type": "code",
      "metadata": {
        "id": "O7IeTmPBiVuc",
        "colab_type": "code",
        "colab": {
          "base_uri": "https://localhost:8080/",
          "height": 173
        },
        "outputId": "9ea71095-8717-4ad3-a2f3-61c35707a8f0"
      },
      "source": [
        "Sol"
      ],
      "execution_count": 152,
      "outputs": [
        {
          "output_type": "execute_result",
          "data": {
            "text/plain": [
              "      fun: 12908.707482921827\n",
              " hess_inv: <3x3 LbfgsInvHessProduct with dtype=float64>\n",
              "      jac: array([ 2.39951914e+03, -2.66257548e+04,  7.59707043e+08])\n",
              "  message: b'CONVERGENCE: REL_REDUCTION_OF_F_<=_FACTR*EPSMCH'\n",
              "     nfev: 216\n",
              "      nit: 7\n",
              "   status: 0\n",
              "  success: True\n",
              "        x: array([9.99999251e-01, 1.48961182e-06, 8.02113363e-09])"
            ]
          },
          "metadata": {
            "tags": []
          },
          "execution_count": 152
        }
      ]
    },
    {
      "cell_type": "code",
      "metadata": {
        "id": "1fItTPWyYt50",
        "colab_type": "code",
        "colab": {
          "base_uri": "https://localhost:8080/",
          "height": 35
        },
        "outputId": "248dadde-9302-4554-89ec-15d66e885053"
      },
      "source": [
        "objective(Sol.x)"
      ],
      "execution_count": 153,
      "outputs": [
        {
          "output_type": "execute_result",
          "data": {
            "text/plain": [
              "12908.707482921827"
            ]
          },
          "metadata": {
            "tags": []
          },
          "execution_count": 153
        }
      ]
    },
    {
      "cell_type": "code",
      "metadata": {
        "id": "wMA-o0yZioPA",
        "colab_type": "code",
        "colab": {}
      },
      "source": [
        "beta=Sol.x[0]\n",
        "gamma=Sol.x[1]\n",
        "mu=Sol.x[2]\n",
        "dt=1\n",
        "\n",
        "St_pred=St*(1-dt*beta*It/population_N)\n",
        "\n",
        "It_pred=It*(1+dt*(beta*St/population_N)-(mu+gamma))\n",
        "\n",
        "Rt_pred=Rt+(dt*gamma*It)\n",
        "\n",
        "Dt_pred=Dt+(dt*mu*It)\n"
      ],
      "execution_count": 154,
      "outputs": []
    },
    {
      "cell_type": "code",
      "metadata": {
        "id": "WTIfkIgPjKEx",
        "colab_type": "code",
        "colab": {
          "base_uri": "https://localhost:8080/",
          "height": 299
        },
        "outputId": "b5ce1120-286f-4fdf-a1e5-071c31369d33"
      },
      "source": [
        "import matplotlib.pyplot as plt\n",
        "dat=np.linspace(0,len(Dt_pred)-1,len(Dt_pred)-1)\n",
        "plt.plot(dat,np.log(Dt_pred[0:len(Dt_pred)-1]+0.00001))\n",
        "plt.plot(dat,np.log(Dt[0:len(Dt)-1]+0.00001))\n",
        "plt.title('Death')"
      ],
      "execution_count": 155,
      "outputs": [
        {
          "output_type": "execute_result",
          "data": {
            "text/plain": [
              "Text(0.5, 1.0, 'Death')"
            ]
          },
          "metadata": {
            "tags": []
          },
          "execution_count": 155
        },
        {
          "output_type": "display_data",
          "data": {
            "image/png": "[encoded data removed]",
            "text/plain": [
              "<Figure size 432x288 with 1 Axes>"
            ]
          },
          "metadata": {
            "tags": [],
            "needs_background": "light"
          }
        }
      ]
    },
    {
      "cell_type": "code",
      "metadata": {
        "id": "K-UhWieckp9a",
        "colab_type": "code",
        "colab": {
          "base_uri": "https://localhost:8080/",
          "height": 299
        },
        "outputId": "de2c364f-bd9c-428b-bcff-17df904ee606"
      },
      "source": [
        "dat=np.linspace(0,len(It_pred)-1,len(It_pred)-1)\n",
        "plt.plot(dat,It_pred[0:len(It_pred)-1])\n",
        "plt.plot(dat,It[0:len(It)-1])\n",
        "plt.title('I')"
      ],
      "execution_count": 156,
      "outputs": [
        {
          "output_type": "execute_result",
          "data": {
            "text/plain": [
              "Text(0.5, 1.0, 'I')"
            ]
          },
          "metadata": {
            "tags": []
          },
          "execution_count": 156
        },
        {
          "output_type": "display_data",
          "data": {
            "image/png": "[encoded data removed]",
            "text/plain": [
              "<Figure size 432x288 with 1 Axes>"
            ]
          },
          "metadata": {
            "tags": [],
            "needs_background": "light"
          }
        }
      ]
    },
    {
      "cell_type": "code",
      "metadata": {
        "id": "S2fdEZq2ldRA",
        "colab_type": "code",
        "colab": {
          "base_uri": "https://localhost:8080/",
          "height": 299
        },
        "outputId": "a324fcf8-dfae-4b2b-d57c-fc7b5d76f116"
      },
      "source": [
        "dat=np.linspace(0,len(St_pred)-1,len(St_pred)-1)\n",
        "plt.plot(dat,St_pred[0:len(St_pred)-1])\n",
        "plt.plot(dat,St[0:len(St)-1])\n",
        "plt.title('S')"
      ],
      "execution_count": 157,
      "outputs": [
        {
          "output_type": "execute_result",
          "data": {
            "text/plain": [
              "Text(0.5, 1.0, 'S')"
            ]
          },
          "metadata": {
            "tags": []
          },
          "execution_count": 157
        },
        {
          "output_type": "display_data",
          "data": {
            "image/png": "[encoded data removed]",
            "text/plain": [
              "<Figure size 432x288 with 1 Axes>"
            ]
          },
          "metadata": {
            "tags": [],
            "needs_background": "light"
          }
        }
      ]
    },
    {
      "cell_type": "code",
      "metadata": {
        "id": "WQ02EPOz5B8r",
        "colab_type": "code",
        "colab": {}
      },
      "source": [
        ""
      ],
      "execution_count": 132,
      "outputs": []
    },
    {
      "cell_type": "code",
      "metadata": {
        "id": "pzn0b1tDmFeN",
        "colab_type": "code",
        "colab": {
          "base_uri": "https://localhost:8080/",
          "height": 299
        },
        "outputId": "53ad9ffc-814a-41d5-9185-48deb4352d88"
      },
      "source": [
        "dat=np.linspace(0,len(Rt_pred)-1,len(Rt_pred)-1)\n",
        "plt.plot(dat,Rt_pred[0:len(Rt_pred)-1])\n",
        "plt.plot(dat,Rt[0:len(Rt)-1])\n",
        "plt.title('R')"
      ],
      "execution_count": 158,
      "outputs": [
        {
          "output_type": "execute_result",
          "data": {
            "text/plain": [
              "Text(0.5, 1.0, 'R')"
            ]
          },
          "metadata": {
            "tags": []
          },
          "execution_count": 158
        },
        {
          "output_type": "display_data",
          "data": {
            "image/png": "[encoded data removed]",
            "text/plain": [
              "<Figure size 432x288 with 1 Axes>"
            ]
          },
          "metadata": {
            "tags": [],
            "needs_background": "light"
          }
        }
      ]
    },
    {
      "cell_type": "code",
      "metadata": {
        "id": "22H6Q9j2w9Ph",
        "colab_type": "code",
        "colab": {}
      },
      "source": [
        ""
      ],
      "execution_count": 121,
      "outputs": []
    },
    {
      "cell_type": "code",
      "metadata": {
        "id": "meii0KIb5hv7",
        "colab_type": "code",
        "colab": {}
      },
      "source": [
        ""
      ],
      "execution_count": 121,
      "outputs": []
    },
    {
      "cell_type": "code",
      "metadata": {
        "id": "a-OuUJZx7khz",
        "colab_type": "code",
        "colab": {}
      },
      "source": [
        ""
      ],
      "execution_count": 121,
      "outputs": []
    },
    {
      "cell_type": "code",
      "metadata": {
        "id": "8JqOd3TiukYu",
        "colab_type": "code",
        "colab": {}
      },
      "source": [
        ""
      ],
      "execution_count": 121,
      "outputs": []
    },
    {
      "cell_type": "code",
      "metadata": {
        "id": "JImTnNWiym6L",
        "colab_type": "code",
        "colab": {}
      },
      "source": [
        ""
      ],
      "execution_count": 121,
      "outputs": []
    },
    {
      "cell_type": "code",
      "metadata": {
        "id": "0KmmyGDmyyL3",
        "colab_type": "code",
        "colab": {}
      },
      "source": [
        ""
      ],
      "execution_count": null,
      "outputs": []
    }
  ]
}