{
  "nbformat": 4,
  "nbformat_minor": 0,
  "metadata": {
    "colab": {
      "name": "SIRD.ipynb",
      "provenance": [],
      "collapsed_sections": []
    },
    "kernelspec": {
      "name": "python3",
      "display_name": "Python 3"
    }
  },
  "cells": [
    {
      "cell_type": "markdown",
      "metadata": {
        "id": "9Wu4nECQLM2N",
        "colab_type": "text"
      },
      "source": [
        "試用現有資料 和SIRD模型 \n",
        "找出不隨時間變化的參數 \n",
        "感染率beta \n",
        "復原率 gamma\n",
        "死亡率 mu"
      ]
    },
    {
      "cell_type": "code",
      "metadata": {
        "id": "NhNldnAucDLy",
        "colab_type": "code",
        "colab": {}
      },
      "source": [
        "import requests\n",
        "import pandas as pd\n",
        "import torch.optim as optim\n",
        "import numpy as np\n",
        "\n",
        "#收集從1月27日到九月中的資料\n",
        "DATA=[]\n"
      ],
      "execution_count": 1,
      "outputs": []
    },
    {
      "cell_type": "markdown",
      "metadata": {
        "id": "CxdpplKiK75F",
        "colab_type": "text"
      },
      "source": [
        "將每個月分的資料以月為單位讀入"
      ]
    },
    {
      "cell_type": "code",
      "metadata": {
        "id": "qhCYfWow21t0",
        "colab_type": "code",
        "colab": {}
      },
      "source": [
        "for i in range(27,32):\n",
        "  url = 'https://raw.githubusercontent.com/CSSEGISandData/COVID-19/master/csse_covid_19_data/csse_covid_19_daily_reports/01-'+str(i)+'-2020.csv'\n",
        "  res = requests.get(url, allow_redirects=True)\n",
        "  with open('covid.csv','wb') as file:\n",
        "     file.write(res.content)\n",
        "  DATA.append(pd.read_csv('covid.csv'))"
      ],
      "execution_count": 2,
      "outputs": []
    },
    {
      "cell_type": "code",
      "metadata": {
        "id": "LznBv1Kk22Az",
        "colab_type": "code",
        "colab": {}
      },
      "source": [
        "for i in range(1,30):\n",
        "  url = 'https://raw.githubusercontent.com/CSSEGISandData/COVID-19/master/csse_covid_19_data/csse_covid_19_daily_reports/02-'+str(i)+'-2020.csv'\n",
        "  res = requests.get(url, allow_redirects=True)\n",
        "  with open('covid.csv','wb') as file:\n",
        "     file.write(res.content)\n",
        "  DATA.append(pd.read_csv('covid.csv'))"
      ],
      "execution_count": 3,
      "outputs": []
    },
    {
      "cell_type": "code",
      "metadata": {
        "id": "yiKTvkXoi1Hx",
        "colab_type": "code",
        "colab": {}
      },
      "source": [
        "for i in range(1,32):\n",
        "  url = 'https://raw.githubusercontent.com/CSSEGISandData/COVID-19/master/csse_covid_19_data/csse_covid_19_daily_reports/03-'+str(i)+'-2020.csv'\n",
        "  res = requests.get(url, allow_redirects=True)\n",
        "  with open('covid.csv','wb') as file:\n",
        "     file.write(res.content)\n",
        "  DATA.append(pd.read_csv('covid.csv'))"
      ],
      "execution_count": 4,
      "outputs": []
    },
    {
      "cell_type": "code",
      "metadata": {
        "id": "cNsu6E0CgxXF",
        "colab_type": "code",
        "colab": {}
      },
      "source": [
        "for i in range(1,31):\n",
        "  url = 'https://raw.githubusercontent.com/CSSEGISandData/COVID-19/master/csse_covid_19_data/csse_covid_19_daily_reports/04-'+str(i)+'-2020.csv'\n",
        "  res = requests.get(url, allow_redirects=True)\n",
        "  with open('covid.csv','wb') as file:\n",
        "     file.write(res.content)\n",
        "  DATA.append(pd.read_csv('covid.csv'))"
      ],
      "execution_count": 5,
      "outputs": []
    },
    {
      "cell_type": "code",
      "metadata": {
        "id": "Q5FdDwTJj_bk",
        "colab_type": "code",
        "colab": {}
      },
      "source": [
        "for i in range(1,32):\n",
        "  url = 'https://raw.githubusercontent.com/CSSEGISandData/COVID-19/master/csse_covid_19_data/csse_covid_19_daily_reports/05-'+str(i)+'-2020.csv'\n",
        "  res = requests.get(url, allow_redirects=True)\n",
        "  with open('covid.csv','wb') as file:\n",
        "     file.write(res.content)\n",
        "  DATA.append(pd.read_csv('covid.csv'))"
      ],
      "execution_count": 6,
      "outputs": []
    },
    {
      "cell_type": "code",
      "metadata": {
        "id": "Gb2vr70KkEU_",
        "colab_type": "code",
        "colab": {}
      },
      "source": [
        "for i in range(1,31):\n",
        "  url = 'https://raw.githubusercontent.com/CSSEGISandData/COVID-19/master/csse_covid_19_data/csse_covid_19_daily_reports/06-'+str(i)+'-2020.csv'\n",
        "  res = requests.get(url, allow_redirects=True)\n",
        "  with open('covid.csv','wb') as file:\n",
        "     file.write(res.content)\n",
        "  DATA.append(pd.read_csv('covid.csv'))"
      ],
      "execution_count": 7,
      "outputs": []
    },
    {
      "cell_type": "code",
      "metadata": {
        "id": "Ql5mWn1AkNPM",
        "colab_type": "code",
        "colab": {}
      },
      "source": [
        "for i in range(1,32):\n",
        "  url = 'https://raw.githubusercontent.com/CSSEGISandData/COVID-19/master/csse_covid_19_data/csse_covid_19_daily_reports/07-'+str(i)+'-2020.csv'\n",
        "  res = requests.get(url, allow_redirects=True)\n",
        "  with open('covid.csv','wb') as file:\n",
        "     file.write(res.content)\n",
        "  DATA.append(pd.read_csv('covid.csv'))"
      ],
      "execution_count": 8,
      "outputs": []
    },
    {
      "cell_type": "code",
      "metadata": {
        "id": "ntoAe5_Pka4L",
        "colab_type": "code",
        "colab": {}
      },
      "source": [
        "for i in range(1,32):\n",
        "  url = 'https://raw.githubusercontent.com/CSSEGISandData/COVID-19/master/csse_covid_19_data/csse_covid_19_daily_reports/08-'+str(i)+'-2020.csv'\n",
        "  res = requests.get(url, allow_redirects=True)\n",
        "  with open('covid.csv','wb') as file:\n",
        "     file.write(res.content)\n",
        "  DATA.append(pd.read_csv('covid.csv'))"
      ],
      "execution_count": 9,
      "outputs": []
    },
    {
      "cell_type": "code",
      "metadata": {
        "id": "B7QOs-vNkjiI",
        "colab_type": "code",
        "colab": {}
      },
      "source": [
        "for i in range(1,14):\n",
        "  url = 'https://raw.githubusercontent.com/CSSEGISandData/COVID-19/master/csse_covid_19_data/csse_covid_19_daily_reports/09-'+str(i)+'-2020.csv'\n",
        "  res = requests.get(url, allow_redirects=True)\n",
        "  with open('covid.csv','wb') as file:\n",
        "     file.write(res.content)\n",
        "  DATA.append(pd.read_csv('covid.csv'))"
      ],
      "execution_count": 10,
      "outputs": []
    },
    {
      "cell_type": "markdown",
      "metadata": {
        "id": "k4T-RmKI0jaT",
        "colab_type": "text"
      },
      "source": [
        "實際的執行結果放在最底下，接下來內容是分段敘述各步驟內容\n"
      ]
    },
    {
      "cell_type": "markdown",
      "metadata": {
        "id": "zvaIalTQNaMd",
        "colab_type": "text"
      },
      "source": [
        "取出特定國家的資料"
      ]
    },
    {
      "cell_type": "code",
      "metadata": {
        "id": "bIAb7ZbMhAhV",
        "colab_type": "code",
        "colab": {}
      },
      "source": [
        "def Data_of_Country(num): \n",
        "  Data_Country=[]\n",
        "  for i in range(len(DATA)):\n",
        "    if 'Country/Region' in DATA[i]:\n",
        "      fliter = (DATA[i]['Country/Region']==Country[num])\n",
        "      if len(DATA[i][fliter])>0:\n",
        "        Data_Country.append(DATA[i][fliter])\n",
        "    elif 'Country_Region' in DATA[i]:\n",
        "      fliter = (DATA[i]['Country_Region']==Country[num])\n",
        "      if len(DATA[i][fliter])>0:\n",
        "        Data_Country.append(DATA[i][fliter])\n",
        "  return Data_Country"
      ],
      "execution_count": 11,
      "outputs": []
    },
    {
      "cell_type": "markdown",
      "metadata": {
        "id": "rsEFum1tPFcH",
        "colab_type": "text"
      },
      "source": [
        "取得每天的 S(疑似) I(感染) R(復原) D(死亡) 資料"
      ]
    },
    {
      "cell_type": "code",
      "metadata": {
        "id": "cyhygeXMW10d",
        "colab_type": "code",
        "colab": {}
      },
      "source": [
        "def take_SIRD_data(Data_Country,number):\n",
        "  num_of_Data_Country=len(Data_Country)\n",
        "  N=population_N[number]\n",
        "  St=[]\n",
        "  for i in range(num_of_Data_Country):\n",
        "    St.append(N-Data_Country[i]['Confirmed'].sum()-Data_Country[i]['Deaths'].sum()-Data_Country[i]['Recovered'].sum())\n",
        "  St=np.array(St)\n",
        "  It=[]\n",
        "  for i in range(num_of_Data_Country):\n",
        "    It.append(Data_Country[i]['Confirmed'].sum())\n",
        "  It=np.array(It)\n",
        "  Rt=[]\n",
        "  for i in range(num_of_Data_Country):\n",
        "    Rt.append(Data_Country[i]['Recovered'].sum())\n",
        "  Rt=np.array(Rt)\n",
        "  Dt=[]\n",
        "  for i in range(num_of_Data_Country):\n",
        "    Dt.append(Data_Country[i]['Deaths'].sum())\n",
        "  Dt=np.array(Dt)\n",
        "\n",
        "  return St,It,Rt,Dt"
      ],
      "execution_count": 12,
      "outputs": []
    },
    {
      "cell_type": "markdown",
      "metadata": {
        "id": "E7VFtImPyJzW",
        "colab_type": "text"
      },
      "source": [
        "最小化loss function\n"
      ]
    },
    {
      "cell_type": "code",
      "metadata": {
        "id": "64dZ6me1WLCO",
        "colab_type": "code",
        "colab": {}
      },
      "source": [
        "import numpy as np\n",
        "from scipy.optimize import minimize\n",
        "\n",
        "def objective(x):\n",
        "\n",
        "  #參數 dt 單位天數\n",
        "  dt=1\n",
        "  eps=0.0000001\n",
        "  beta=x[0]\n",
        "  gamma=x[1]\n",
        "  mu=x[2]\n",
        "  \n",
        "  #藉由finite difference method 做出下一個時間點的預測\n",
        "\n",
        "  St_pred=St_now*(1-dt*beta*It_now/N)\n",
        "  It_pred=It_now*(1+dt*(beta*St_now/N)-dt*(mu+gamma))\n",
        "  Rt_pred=Rt_now+(dt*gamma*It_now)\n",
        "  Dt_pred=Dt_now+(dt*mu*It_now)\n",
        "  \n",
        "  # loss function 只取用論文中使用的loss function的前兩項\n",
        "  loss=0.01*np.log(np.max(It))/np.max(It)*((It_true-It_pred)**2).sum()+((np.log(It_true+eps)-np.log(It_pred+eps))**2).sum()+0.01*np.log(np.max(It))/np.max(It)*((Dt_true-Dt_pred)**2).sum()+((np.log(Dt_true+eps)-np.log(Dt_pred+eps))**2).sum()                                                                                                                   \n",
        "  return loss\n"
      ],
      "execution_count": 13,
      "outputs": []
    },
    {
      "cell_type": "code",
      "metadata": {
        "id": "o3R6iAmlPxwh",
        "colab_type": "code",
        "colab": {}
      },
      "source": [
        ""
      ],
      "execution_count": null,
      "outputs": []
    },
    {
      "cell_type": "code",
      "metadata": {
        "id": "d1tFj958Y3bc",
        "colab_type": "code",
        "colab": {}
      },
      "source": [
        "def find_parameter(num):\n",
        "  # initial guesses\n",
        "  beta = 0.01\n",
        "  gamma = 0.01\n",
        "  mu = 0.005\n",
        "  population_N[num]\n",
        "\n",
        "  x0 = np.zeros(3)\n",
        "  x0[0] = beta\n",
        "  x0[1] = gamma\n",
        "  x0[2] = mu\n",
        "  b = (0.0,1.0)\n",
        "  bnds = (b, b, b)\n",
        "\n",
        "  Sol=minimize(objective,x0,bounds=bnds)\n",
        "  return Sol.x"
      ],
      "execution_count": 14,
      "outputs": []
    },
    {
      "cell_type": "markdown",
      "metadata": {
        "id": "0bDMlQbeyWnd",
        "colab_type": "text"
      },
      "source": [
        "預測結果\n"
      ]
    },
    {
      "cell_type": "code",
      "metadata": {
        "id": "wMA-o0yZioPA",
        "colab_type": "code",
        "colab": {}
      },
      "source": [
        "def predict(beta,gamma,mu,N):\n",
        "  dt=1\n",
        "  St_pred=St_now*(1-dt*beta*It_now/N)\n",
        "  It_pred=It_now*(1+dt*(beta*St_now/N)-(mu+gamma))\n",
        "  Rt_pred=Rt_now+(dt*gamma*It_now)\n",
        "  Dt_pred=Dt_now+(dt*mu*It_now)\n",
        "  return St_pred,It_pred,Rt_pred,Dt_pred"
      ],
      "execution_count": 15,
      "outputs": []
    },
    {
      "cell_type": "markdown",
      "metadata": {
        "id": "02AD9Zpy0ZN0",
        "colab_type": "text"
      },
      "source": [
        "實際計算結果"
      ]
    },
    {
      "cell_type": "code",
      "metadata": {
        "id": "yu0xqepWwDiy",
        "colab_type": "code",
        "colab": {}
      },
      "source": [
        "#國家人口數據\n",
        "Country=['Italy','Germany','United Kingdom','Spain','US','France','China','Belgium']\n",
        "population_N=[60.36*1000000, 83.02*1000000 ,66.56*1000000 ,46.94*1000000 ,327.2*1000000 ,66.99*1000000, 1386*1000000 ,11.46*1000000]"
      ],
      "execution_count": 17,
      "outputs": []
    },
    {
      "cell_type": "code",
      "metadata": {
        "id": "fYgcT2IsTw6E",
        "colab_type": "code",
        "colab": {}
      },
      "source": [
        "#Country中國家的編號\n",
        "number=1\n",
        "\n",
        "#\n",
        "beta = 0.3\n",
        "gamma = 0.01\n",
        "mu = 0.001\n",
        "St_preds=[]\n",
        "It_preds=[]\n",
        "Rt_preds=[]\n",
        "Dt_preds=[]\n",
        "BETA=[]\n",
        "Gamma=[]\n",
        "Mu=[]\n",
        "\n",
        "# 取某國家資料\n",
        "\n",
        "Data_Country=Data_of_Country(number)\n",
        "[St,It,Rt,Dt]=take_SIRD_data(Data_Country,number)\n",
        "N=population_N[number]\n",
        "\n",
        "#第一天\n",
        "St_now=St[0]\n",
        "It_now=It[0]\n",
        "Dt_now=Dt[0]\n",
        "Rt_now=Rt[0]\n",
        "dt=1\n",
        "\n",
        "#天數\n",
        "Nday=len(St)-1\n",
        "\n",
        "#計算每天的SIDR各項人數 及 參數\n",
        "for i in range(Nday):\n",
        "  St_pred=(St_now*(1-dt*beta*It_now/N))\n",
        "  It_pred=It_now*(1+dt*(beta*St_now/N)-dt*(mu+gamma))\n",
        "  Rt_pred=Rt_now+(dt*gamma*It_now)\n",
        "  Dt_pred=Dt_now+(dt*mu*It_now)\n",
        "\n",
        "  St_true=St[i+1]\n",
        "  It_true=It[i+1]\n",
        "  Rt_true=Rt[i+1]\n",
        "  Dt_true=Dt[i+1]\n",
        "  [beta,gamma,mu]=find_parameter(number)\n",
        "  [St_pred,It_pred,Rt_pred,Dt_pred]=predict(beta,gamma,mu,N)\n",
        "\n",
        "\n",
        "  St_preds.append(St_pred)\n",
        "  It_preds.append(It_pred)\n",
        "  Rt_preds.append(Rt_pred)\n",
        "  Dt_preds.append(Dt_pred)\n",
        "  BETA.append(beta)\n",
        "  Gamma.append(gamma)\n",
        "  Mu.append(mu)\n",
        "\n",
        "  St_now=St_pred\n",
        "  It_now=It_pred\n",
        "  Rt_now=Rt_pred\n",
        "  Dt_now=Dt_pred\n",
        "  \n",
        "St_preds=np.array(St_preds)\n",
        "It_preds=np.array(It_preds)\n",
        "Rt_preds=np.array(Rt_preds)\n",
        "Dt_preds=np.array(Dt_preds)"
      ],
      "execution_count": 48,
      "outputs": []
    },
    {
      "cell_type": "code",
      "metadata": {
        "id": "fJH3ZgTqoF_L",
        "colab_type": "code",
        "colab": {}
      },
      "source": [
        ""
      ],
      "execution_count": 48,
      "outputs": []
    },
    {
      "cell_type": "markdown",
      "metadata": {
        "id": "cH2PPvxswyOz",
        "colab_type": "text"
      },
      "source": [
        "註 下圖藍線為model預測結果 橘線為實際資料 因為人數已千或萬人為單位，所以看不太出人數的差別。\n",
        "故，另外計算實際最大誤差人數"
      ]
    },
    {
      "cell_type": "code",
      "metadata": {
        "id": "WTIfkIgPjKEx",
        "colab_type": "code",
        "colab": {
          "base_uri": "https://localhost:8080/",
          "height": 313
        },
        "outputId": "2cd0394b-0914-476b-8ef6-b685494b646a"
      },
      "source": [
        "import matplotlib.pyplot as plt\n",
        "eps=0.00001\n",
        "dat=np.linspace(0,len(Dt)-1,len(Dt)-1)\n",
        "\n",
        "plt.plot(dat,np.log10(Dt_preds+eps)) #預測人數\n",
        "plt.plot(dat,np.log10(Dt[0:len(Dt)-1]+eps))      #實際人數\n",
        "\n",
        "\n",
        "plt.title('Death of '+Country[number])\n",
        "plt.xlabel('day')\n",
        "plt.ylabel('log(D)')\n",
        "plt.ylim((0))\n",
        "print('最大誤差',np.linalg.norm((Dt_preds-Dt[0:len(Dt)-1]),np.inf))"
      ],
      "execution_count": 49,
      "outputs": [
        {
          "output_type": "stream",
          "text": [
            "最大誤差 1991.9992359185226\n"
          ],
          "name": "stdout"
        },
        {
          "output_type": "display_data",
          "data": {
            "image/png": "[encoded data removed]",
            "text/plain": [
              "<Figure size 432x288 with 1 Axes>"
            ]
          },
          "metadata": {
            "tags": [],
            "needs_background": "light"
          }
        }
      ]
    },
    {
      "cell_type": "code",
      "metadata": {
        "id": "K-UhWieckp9a",
        "colab_type": "code",
        "colab": {
          "base_uri": "https://localhost:8080/",
          "height": 313
        },
        "outputId": "1a8191c7-b228-470a-97a9-7a5ee74f0f89"
      },
      "source": [
        "dat=np.linspace(0,len(It)-1,len(It)-1)\n",
        "eps=0.00001\n",
        "\n",
        "plt.plot(dat,np.log10(It_preds+eps)) #預測人數\n",
        "plt.plot(dat,np.log10(It[0:len(It)-1]+eps))      #實際人數\n",
        "\n",
        "plt.title('I of '+Country[number])\n",
        "plt.xlabel('day')\n",
        "plt.ylabel('log(I)')\n",
        "plt.ylim((0))\n",
        "print('最大誤差',np.linalg.norm((It_preds-It[0:len(It)-1]),np.inf))\n"
      ],
      "execution_count": 50,
      "outputs": [
        {
          "output_type": "stream",
          "text": [
            "最大誤差 50362.999111472585\n"
          ],
          "name": "stdout"
        },
        {
          "output_type": "display_data",
          "data": {
            "image/png": "[encoded data removed]",
            "text/plain": [
              "<Figure size 432x288 with 1 Axes>"
            ]
          },
          "metadata": {
            "tags": [],
            "needs_background": "light"
          }
        }
      ]
    },
    {
      "cell_type": "code",
      "metadata": {
        "id": "S2fdEZq2ldRA",
        "colab_type": "code",
        "colab": {
          "base_uri": "https://localhost:8080/",
          "height": 313
        },
        "outputId": "1d6d1fce-bb56-4570-c0cb-fac45412ae4d"
      },
      "source": [
        "dat=np.linspace(0,len(St)-1,len(St)-1)\n",
        "eps=0.00001\n",
        "\n",
        "plt.plot(dat,(St_preds+eps)) #預測人數\n",
        "plt.plot(dat,(St[0:len(St)-1]))      #實際人數\n",
        "\n",
        "plt.title('S of '+Country[number])\n",
        "plt.xlabel('day')\n",
        "plt.ylabel('S')\n",
        "#plt.ylim((0))\n",
        "print('最大誤差',np.linalg.norm((St_preds-St[0:len(St)-1]),np.inf))"
      ],
      "execution_count": 51,
      "outputs": [
        {
          "output_type": "stream",
          "text": [
            "最大誤差 107382.37039962411\n"
          ],
          "name": "stdout"
        },
        {
          "output_type": "display_data",
          "data": {
            "image/png": "[encoded data removed]",
            "text/plain": [
              "<Figure size 432x288 with 1 Axes>"
            ]
          },
          "metadata": {
            "tags": [],
            "needs_background": "light"
          }
        }
      ]
    },
    {
      "cell_type": "code",
      "metadata": {
        "id": "pzn0b1tDmFeN",
        "colab_type": "code",
        "colab": {
          "base_uri": "https://localhost:8080/",
          "height": 313
        },
        "outputId": "5cf07777-aa01-4b3a-9468-54bdee5fe1a5"
      },
      "source": [
        "dat=np.linspace(0,len(Rt)-1,len(Rt)-1)\n",
        "eps=0.00001\n",
        "\n",
        "plt.plot(dat,np.log10(Rt_preds+eps)) #預測人數\n",
        "plt.plot(dat,np.log10(Rt[0:len(Rt)-1]+eps))      #實際人數\n",
        "\n",
        "plt.title('R of '+Country[number])\n",
        "plt.xlabel('day')\n",
        "plt.ylabel('log(R)')\n",
        "plt.ylim((0))\n",
        "print('最大誤差',np.linalg.norm((Rt_preds-Rt[0:len(Rt)-1]),np.inf))\n",
        "\n"
      ],
      "execution_count": 52,
      "outputs": [
        {
          "output_type": "stream",
          "text": [
            "最大誤差 108171.36706896422\n"
          ],
          "name": "stdout"
        },
        {
          "output_type": "display_data",
          "data": {
            "image/png": "[encoded data removed]",
            "text/plain": [
              "<Figure size 432x288 with 1 Axes>"
            ]
          },
          "metadata": {
            "tags": [],
            "needs_background": "light"
          }
        }
      ]
    },
    {
      "cell_type": "code",
      "metadata": {
        "id": "JaSAL51hF1sU",
        "colab_type": "code",
        "colab": {
          "base_uri": "https://localhost:8080/",
          "height": 313
        },
        "outputId": "a23a908e-e699-4ced-c218-3e92a7b8e271"
      },
      "source": [
        "dat=np.linspace(0,len(BETA),len(BETA))\n",
        "plt.plot(dat,(BETA)) \n",
        "plt.title('beta of '+Country[number])\n",
        "plt.xlabel('day')\n",
        "plt.ylabel('beta')\n"
      ],
      "execution_count": 53,
      "outputs": [
        {
          "output_type": "execute_result",
          "data": {
            "text/plain": [
              "Text(0, 0.5, 'beta')"
            ]
          },
          "metadata": {
            "tags": []
          },
          "execution_count": 53
        },
        {
          "output_type": "display_data",
          "data": {
            "image/png": "[encoded data removed]",
            "text/plain": [
              "<Figure size 432x288 with 1 Axes>"
            ]
          },
          "metadata": {
            "tags": [],
            "needs_background": "light"
          }
        }
      ]
    },
    {
      "cell_type": "code",
      "metadata": {
        "id": "HrUW4N2pGPXD",
        "colab_type": "code",
        "colab": {
          "base_uri": "https://localhost:8080/",
          "height": 313
        },
        "outputId": "91e7d7ad-e57a-41fd-8270-be423b7753a2"
      },
      "source": [
        "dat=np.linspace(0,len(Gamma),len(Gamma))\n",
        "plt.plot(dat,(Gamma)) \n",
        "plt.title('gamma of '+Country[number])\n",
        "plt.xlabel('day')\n",
        "plt.ylabel('gamma')\n"
      ],
      "execution_count": 54,
      "outputs": [
        {
          "output_type": "execute_result",
          "data": {
            "text/plain": [
              "Text(0, 0.5, 'gamma')"
            ]
          },
          "metadata": {
            "tags": []
          },
          "execution_count": 54
        },
        {
          "output_type": "display_data",
          "data": {
            "image/png": "[encoded data removed]",
            "text/plain": [
              "<Figure size 432x288 with 1 Axes>"
            ]
          },
          "metadata": {
            "tags": [],
            "needs_background": "light"
          }
        }
      ]
    },
    {
      "cell_type": "code",
      "metadata": {
        "id": "klXvZgnbGYQ8",
        "colab_type": "code",
        "colab": {
          "base_uri": "https://localhost:8080/",
          "height": 313
        },
        "outputId": "2addfe1d-9c25-4fcf-e1ca-b60d8f567f03"
      },
      "source": [
        "dat=np.linspace(0,len(Mu),len(Mu))\n",
        "plt.plot(dat,(Mu)) \n",
        "plt.title('mu of '+Country[number])\n",
        "plt.xlabel('day')\n",
        "plt.ylabel('mu')\n"
      ],
      "execution_count": 55,
      "outputs": [
        {
          "output_type": "execute_result",
          "data": {
            "text/plain": [
              "Text(0, 0.5, 'mu')"
            ]
          },
          "metadata": {
            "tags": []
          },
          "execution_count": 55
        },
        {
          "output_type": "display_data",
          "data": {
            "image/png": "[encoded data removed]",
            "text/plain": [
              "<Figure size 432x288 with 1 Axes>"
            ]
          },
          "metadata": {
            "tags": [],
            "needs_background": "light"
          }
        }
      ]
    },
    {
      "cell_type": "code",
      "metadata": {
        "id": "pfj_n7-iGXZU",
        "colab_type": "code",
        "colab": {}
      },
      "source": [
        ""
      ],
      "execution_count": null,
      "outputs": []
    },
    {
      "cell_type": "code",
      "metadata": {
        "id": "22H6Q9j2w9Ph",
        "colab_type": "code",
        "colab": {}
      },
      "source": [
        ""
      ],
      "execution_count": null,
      "outputs": []
    }
  ]
}