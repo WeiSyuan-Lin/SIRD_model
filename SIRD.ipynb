{
  "nbformat": 4,
  "nbformat_minor": 0,
  "metadata": {
    "colab": {
      "name": "SIRD.ipynb",
      "provenance": [],
      "collapsed_sections": []
    },
    "kernelspec": {
      "name": "python3",
      "display_name": "Python 3"
    }
  },
  "cells": [
    {
      "cell_type": "markdown",
      "metadata": {
        "id": "9Wu4nECQLM2N",
        "colab_type": "text"
      },
      "source": [
        "試用現有資料 和SIRD模型 \n",
        "找出不隨時間變化的參數 \n",
        "感染率beta \n",
        "復原率 gamma\n",
        "死亡率 mu"
      ]
    },
    {
      "cell_type": "code",
      "metadata": {
        "id": "NhNldnAucDLy",
        "colab_type": "code",
        "colab": {}
      },
      "source": [
        "import requests\n",
        "import pandas as pd\n",
        "import torch.optim as optim\n",
        "import numpy as np\n",
        "\n",
        "#收集從1月27日到九月中的資料\n",
        "DATA=[]\n"
      ],
      "execution_count": 1,
      "outputs": []
    },
    {
      "cell_type": "markdown",
      "metadata": {
        "id": "CxdpplKiK75F",
        "colab_type": "text"
      },
      "source": [
        "將每個月分的資料以月為單位讀入"
      ]
    },
    {
      "cell_type": "code",
      "metadata": {
        "id": "qhCYfWow21t0",
        "colab_type": "code",
        "colab": {}
      },
      "source": [
        "for i in range(27,32):\n",
        "  url = 'https://raw.githubusercontent.com/CSSEGISandData/COVID-19/master/csse_covid_19_data/csse_covid_19_daily_reports/01-'+str(i)+'-2020.csv'\n",
        "  res = requests.get(url, allow_redirects=True)\n",
        "  with open('covid.csv','wb') as file:\n",
        "     file.write(res.content)\n",
        "  DATA.append(pd.read_csv('covid.csv'))"
      ],
      "execution_count": 2,
      "outputs": []
    },
    {
      "cell_type": "code",
      "metadata": {
        "id": "LznBv1Kk22Az",
        "colab_type": "code",
        "colab": {}
      },
      "source": [
        "for i in range(1,30):\n",
        "  url = 'https://raw.githubusercontent.com/CSSEGISandData/COVID-19/master/csse_covid_19_data/csse_covid_19_daily_reports/02-'+str(i)+'-2020.csv'\n",
        "  res = requests.get(url, allow_redirects=True)\n",
        "  with open('covid.csv','wb') as file:\n",
        "     file.write(res.content)\n",
        "  DATA.append(pd.read_csv('covid.csv'))"
      ],
      "execution_count": 3,
      "outputs": []
    },
    {
      "cell_type": "code",
      "metadata": {
        "id": "yiKTvkXoi1Hx",
        "colab_type": "code",
        "colab": {}
      },
      "source": [
        "for i in range(1,32):\n",
        "  url = 'https://raw.githubusercontent.com/CSSEGISandData/COVID-19/master/csse_covid_19_data/csse_covid_19_daily_reports/03-'+str(i)+'-2020.csv'\n",
        "  res = requests.get(url, allow_redirects=True)\n",
        "  with open('covid.csv','wb') as file:\n",
        "     file.write(res.content)\n",
        "  DATA.append(pd.read_csv('covid.csv'))"
      ],
      "execution_count": 4,
      "outputs": []
    },
    {
      "cell_type": "code",
      "metadata": {
        "id": "cNsu6E0CgxXF",
        "colab_type": "code",
        "colab": {}
      },
      "source": [
        "for i in range(1,31):\n",
        "  url = 'https://raw.githubusercontent.com/CSSEGISandData/COVID-19/master/csse_covid_19_data/csse_covid_19_daily_reports/04-'+str(i)+'-2020.csv'\n",
        "  res = requests.get(url, allow_redirects=True)\n",
        "  with open('covid.csv','wb') as file:\n",
        "     file.write(res.content)\n",
        "  DATA.append(pd.read_csv('covid.csv'))"
      ],
      "execution_count": 5,
      "outputs": []
    },
    {
      "cell_type": "code",
      "metadata": {
        "id": "Q5FdDwTJj_bk",
        "colab_type": "code",
        "colab": {}
      },
      "source": [
        "for i in range(1,32):\n",
        "  url = 'https://raw.githubusercontent.com/CSSEGISandData/COVID-19/master/csse_covid_19_data/csse_covid_19_daily_reports/05-'+str(i)+'-2020.csv'\n",
        "  res = requests.get(url, allow_redirects=True)\n",
        "  with open('covid.csv','wb') as file:\n",
        "     file.write(res.content)\n",
        "  DATA.append(pd.read_csv('covid.csv'))"
      ],
      "execution_count": 7,
      "outputs": []
    },
    {
      "cell_type": "code",
      "metadata": {
        "id": "Gb2vr70KkEU_",
        "colab_type": "code",
        "colab": {}
      },
      "source": [
        "for i in range(1,31):\n",
        "  url = 'https://raw.githubusercontent.com/CSSEGISandData/COVID-19/master/csse_covid_19_data/csse_covid_19_daily_reports/06-'+str(i)+'-2020.csv'\n",
        "  res = requests.get(url, allow_redirects=True)\n",
        "  with open('covid.csv','wb') as file:\n",
        "     file.write(res.content)\n",
        "  DATA.append(pd.read_csv('covid.csv'))"
      ],
      "execution_count": 8,
      "outputs": []
    },
    {
      "cell_type": "code",
      "metadata": {
        "id": "Ql5mWn1AkNPM",
        "colab_type": "code",
        "colab": {}
      },
      "source": [
        "for i in range(1,32):\n",
        "  url = 'https://raw.githubusercontent.com/CSSEGISandData/COVID-19/master/csse_covid_19_data/csse_covid_19_daily_reports/07-'+str(i)+'-2020.csv'\n",
        "  res = requests.get(url, allow_redirects=True)\n",
        "  with open('covid.csv','wb') as file:\n",
        "     file.write(res.content)\n",
        "  DATA.append(pd.read_csv('covid.csv'))"
      ],
      "execution_count": 9,
      "outputs": []
    },
    {
      "cell_type": "code",
      "metadata": {
        "id": "ntoAe5_Pka4L",
        "colab_type": "code",
        "colab": {}
      },
      "source": [
        "for i in range(1,32):\n",
        "  url = 'https://raw.githubusercontent.com/CSSEGISandData/COVID-19/master/csse_covid_19_data/csse_covid_19_daily_reports/08-'+str(i)+'-2020.csv'\n",
        "  res = requests.get(url, allow_redirects=True)\n",
        "  with open('covid.csv','wb') as file:\n",
        "     file.write(res.content)\n",
        "  DATA.append(pd.read_csv('covid.csv'))"
      ],
      "execution_count": 10,
      "outputs": []
    },
    {
      "cell_type": "code",
      "metadata": {
        "id": "B7QOs-vNkjiI",
        "colab_type": "code",
        "colab": {}
      },
      "source": [
        "for i in range(1,14):\n",
        "  url = 'https://raw.githubusercontent.com/CSSEGISandData/COVID-19/master/csse_covid_19_data/csse_covid_19_daily_reports/09-'+str(i)+'-2020.csv'\n",
        "  res = requests.get(url, allow_redirects=True)\n",
        "  with open('covid.csv','wb') as file:\n",
        "     file.write(res.content)\n",
        "  DATA.append(pd.read_csv('covid.csv'))"
      ],
      "execution_count": 11,
      "outputs": []
    },
    {
      "cell_type": "markdown",
      "metadata": {
        "id": "k4T-RmKI0jaT",
        "colab_type": "text"
      },
      "source": [
        "實際的執行結果放在最底下，接下來內容是分段敘述各步驟內容\n"
      ]
    },
    {
      "cell_type": "markdown",
      "metadata": {
        "id": "zvaIalTQNaMd",
        "colab_type": "text"
      },
      "source": [
        "取出特定國家的資料"
      ]
    },
    {
      "cell_type": "code",
      "metadata": {
        "id": "bIAb7ZbMhAhV",
        "colab_type": "code",
        "colab": {}
      },
      "source": [
        "def Data_of_Country(num): \n",
        "  Data_Country=[]\n",
        "  for i in range(len(DATA)):\n",
        "    if 'Country/Region' in DATA[i]:\n",
        "      fliter = (DATA[i]['Country/Region']==Country[num])\n",
        "      if len(DATA[i][fliter])>0:\n",
        "        Data_Country.append(DATA[i][fliter])\n",
        "    elif 'Country_Region' in DATA[i]:\n",
        "      fliter = (DATA[i]['Country_Region']==Country[num])\n",
        "      if len(DATA[i][fliter])>0:\n",
        "        Data_Country.append(DATA[i][fliter])\n",
        "  return Data_Country"
      ],
      "execution_count": 24,
      "outputs": []
    },
    {
      "cell_type": "markdown",
      "metadata": {
        "id": "rsEFum1tPFcH",
        "colab_type": "text"
      },
      "source": [
        "取得每天的 S(疑似) I(感染) R(復原) D(死亡) 資料"
      ]
    },
    {
      "cell_type": "code",
      "metadata": {
        "id": "cyhygeXMW10d",
        "colab_type": "code",
        "colab": {}
      },
      "source": [
        "def take_SIRD_data(Data_Country):\n",
        "  num_of_Data_Country=len(Data_Country)\n",
        "  St=[]\n",
        "  for i in range(num_of_Data_Country):\n",
        "    St.append(Data_Country[i]['Confirmed'].sum())\n",
        "  St=np.array(St)\n",
        "  It=[]\n",
        "  for i in range(num_of_Data_Country):\n",
        "    It.append(Data_Country[i]['Confirmed'].sum()-Data_Country[i]['Deaths'].sum()-Data_Country[i]['Recovered'].sum())\n",
        "  It=np.array(It)\n",
        "  Rt=[]\n",
        "  for i in range(num_of_Data_Country):\n",
        "    Rt.append(Data_Country[i]['Recovered'].sum())\n",
        "  Rt=np.array(Rt)\n",
        "  Dt=[]\n",
        "  for i in range(num_of_Data_Country):\n",
        "    Dt.append(Data_Country[i]['Deaths'].sum())\n",
        "  Dt=np.array(Dt)\n",
        "\n",
        "  return St,It,Rt,Dt"
      ],
      "execution_count": 18,
      "outputs": []
    },
    {
      "cell_type": "markdown",
      "metadata": {
        "id": "E7VFtImPyJzW",
        "colab_type": "text"
      },
      "source": [
        "最小化loss function\n"
      ]
    },
    {
      "cell_type": "code",
      "metadata": {
        "id": "64dZ6me1WLCO",
        "colab_type": "code",
        "colab": {}
      },
      "source": [
        "import numpy as np\n",
        "from scipy.optimize import minimize\n",
        "\n",
        "def objective(x):\n",
        "\n",
        "  #參數 dt 單位天數\n",
        "  dt=1\n",
        "  eps=0.0000001\n",
        "  beta=x[0]\n",
        "  gamma=x[1]\n",
        "  mu=x[2]\n",
        "  \n",
        "  #藉由finite difference method 做出下一個時間點的預測\n",
        "\n",
        "  St_pred=St*(1-dt*beta*It/N)\n",
        "  It_pred=It*(1+dt*(beta*St/N)-dt*(mu+gamma))\n",
        "  Rt_pred=Rt+(dt*gamma*It)\n",
        "  Dt_pred=Dt+(dt*mu*It)\n",
        "  \n",
        "  # loss function 只取用論文中使用的loss function的前兩項\n",
        "  loss=0.01*np.log(np.max(It))/np.max(It)*((It[1:len(It)]-It_pred[0:len(It_pred)-1])**2).sum()+((np.log(It[1:len(It)]+eps)-np.log(It_pred[0:len(It_pred)-1]+eps))**2).sum()+0.01*np.log(np.max(It))/np.max(It)*((Dt[1:len(Dt)]-Dt_pred[0:len(Dt_pred)-1])**2).sum()+((np.log(Dt[1:len(Dt)]+eps)-np.log(Dt_pred[0:len(Dt_pred)-1]+eps))**2).sum()                                                                                                                   \n",
        "  return loss\n"
      ],
      "execution_count": 78,
      "outputs": []
    },
    {
      "cell_type": "code",
      "metadata": {
        "id": "ldzMiVbzd4Lv",
        "colab_type": "code",
        "colab": {}
      },
      "source": [
        ""
      ],
      "execution_count": 92,
      "outputs": []
    },
    {
      "cell_type": "code",
      "metadata": {
        "id": "d1tFj958Y3bc",
        "colab_type": "code",
        "colab": {}
      },
      "source": [
        "def find_parameter(num):\n",
        "  # initial guesses\n",
        "  beta = 0.05\n",
        "  gamma = 0.05\n",
        "  mu = 0.001\n",
        "  population_N[num]\n",
        "\n",
        "  x0 = np.zeros(3)\n",
        "  x0[0] = beta\n",
        "  x0[1] = gamma\n",
        "  x0[2] = mu\n",
        "  b = (0.0,1.0)\n",
        "  bnds = (b, b, b)\n",
        "\n",
        "  Sol=minimize(objective,x0,bounds=bnds)\n",
        "  return Sol.x"
      ],
      "execution_count": 287,
      "outputs": []
    },
    {
      "cell_type": "markdown",
      "metadata": {
        "id": "0bDMlQbeyWnd",
        "colab_type": "text"
      },
      "source": [
        "預測結果\n"
      ]
    },
    {
      "cell_type": "code",
      "metadata": {
        "id": "wMA-o0yZioPA",
        "colab_type": "code",
        "colab": {}
      },
      "source": [
        "def predict(beta,gamma,mu,N):\n",
        "  dt=1\n",
        "  St_pred=St*(1-dt*beta*It/N)\n",
        "  It_pred=It*(1+dt*(beta*St/N)-(mu+gamma))\n",
        "  Rt_pred=Rt+(dt*gamma*It)\n",
        "  Dt_pred=Dt+(dt*mu*It)\n",
        "  return St_pred,It_pred,Rt_pred,Dt_pred"
      ],
      "execution_count": 279,
      "outputs": []
    },
    {
      "cell_type": "code",
      "metadata": {
        "id": "ynqRP0l5wDXd",
        "colab_type": "code",
        "colab": {}
      },
      "source": [
        ""
      ],
      "execution_count": 279,
      "outputs": []
    },
    {
      "cell_type": "markdown",
      "metadata": {
        "id": "02AD9Zpy0ZN0",
        "colab_type": "text"
      },
      "source": [
        "實際計算結果"
      ]
    },
    {
      "cell_type": "code",
      "metadata": {
        "id": "yu0xqepWwDiy",
        "colab_type": "code",
        "colab": {}
      },
      "source": [
        "#國家人口數據\n",
        "Country=['Italy','Germany','United Kingdom','Spain','US','France','China','Belgium']\n",
        "population_N=[60.36*1000000, 83.02*1000000 ,66.56*1000000 ,46.94*1000000 ,327.2*1000000 ,66.99*1000000, 1386*1000000 ,11.46*1000000]"
      ],
      "execution_count": 280,
      "outputs": []
    },
    {
      "cell_type": "code",
      "metadata": {
        "id": "fYgcT2IsTw6E",
        "colab_type": "code",
        "colab": {}
      },
      "source": [
        "#Country中國家的編號\n",
        "number=0\n",
        "\n",
        "Data_Country=Data_of_Country(number)\n",
        "[St,It,Rt,Dt]=take_SIRD_data(Data_Country)\n",
        "N=population_N[number]\n",
        "\n",
        "#只取前Nday的資料fit model\n",
        "Nday=100\n",
        "St=St[0:Nday]\n",
        "It=It[0:Nday]\n",
        "Rt=Rt[0:Nday]\n",
        "Dt=Dt[0:Nday]\n",
        "[beta,gamma,mu]=find_parameter(number)\n",
        "\n",
        "#取得用Nday fit的beta,gamma,mu 再預測後面天數\n",
        "[St,It,Rt,Dt]=take_SIRD_data(Data_Country)\n",
        "[St_pred,It_pred,Rt_pred,Dt_pred]=predict(beta,gamma,mu,N)"
      ],
      "execution_count": 302,
      "outputs": []
    },
    {
      "cell_type": "code",
      "metadata": {
        "id": "fJH3ZgTqoF_L",
        "colab_type": "code",
        "colab": {}
      },
      "source": [
        ""
      ],
      "execution_count": 302,
      "outputs": []
    },
    {
      "cell_type": "markdown",
      "metadata": {
        "id": "cH2PPvxswyOz",
        "colab_type": "text"
      },
      "source": [
        "註 下圖藍線為model預測結果 橘線為實際資料 因為人數已千或萬人為單位，所以看不太出人數的差別。\n",
        "故，另外計算實際最大誤差人數"
      ]
    },
    {
      "cell_type": "code",
      "metadata": {
        "id": "WTIfkIgPjKEx",
        "colab_type": "code",
        "colab": {
          "base_uri": "https://localhost:8080/",
          "height": 313
        },
        "outputId": "3278d2fa-54b9-4cf5-ecfe-42ff4dec1c27"
      },
      "source": [
        "import matplotlib.pyplot as plt\n",
        "eps=0.00001\n",
        "dat=np.linspace(0,len(Dt)-1,len(Dt)-1)\n",
        "\n",
        "plt.plot(dat,np.log10(Dt_pred[0:len(Dt_pred)-1]+eps)) #預測人數\n",
        "plt.plot(dat,np.log10(Dt[0:len(Dt)-1]+eps))      #實際人數\n",
        "\n",
        "\n",
        "plt.title('Death of '+Country[number])\n",
        "plt.xlabel('day')\n",
        "plt.ylabel('log(D)')\n",
        "plt.ylim((0))\n",
        "print('最大誤差',np.linalg.norm((Dt_pred[0:len(Dt_pred)-1]-Dt[0:len(Dt)-1]),np.inf))"
      ],
      "execution_count": 303,
      "outputs": [
        {
          "output_type": "stream",
          "text": [
            "最大誤差 0.010165095733100316\n"
          ],
          "name": "stdout"
        },
        {
          "output_type": "display_data",
          "data": {
            "image/png": "[encoded data removed]",
            "text/plain": [
              "<Figure size 432x288 with 1 Axes>"
            ]
          },
          "metadata": {
            "tags": [],
            "needs_background": "light"
          }
        }
      ]
    },
    {
      "cell_type": "code",
      "metadata": {
        "id": "K-UhWieckp9a",
        "colab_type": "code",
        "colab": {
          "base_uri": "https://localhost:8080/",
          "height": 313
        },
        "outputId": "bdc0f033-5bf6-40f1-885a-5a3081b3642d"
      },
      "source": [
        "dat=np.linspace(0,len(It_pred)-1,len(It_pred)-1)\n",
        "eps=0.00001\n",
        "\n",
        "plt.plot(dat,np.log10(It_pred[0:len(It_pred)-1]+eps)) #預測人數\n",
        "plt.plot(dat,np.log10(It[0:len(It)-1]+eps))      #實際人數\n",
        "\n",
        "plt.title('I of '+Country[number])\n",
        "plt.xlabel('day')\n",
        "plt.ylabel('log(I)')\n",
        "plt.ylim((0))\n",
        "print('最大誤差',np.linalg.norm((It_pred[0:len(It_pred)-1]-It[0:len(It)-1]),np.inf))\n"
      ],
      "execution_count": 304,
      "outputs": [
        {
          "output_type": "stream",
          "text": [
            "最大誤差 0.010165538638830185\n"
          ],
          "name": "stdout"
        },
        {
          "output_type": "display_data",
          "data": {
            "image/png": "[encoded data removed]",
            "text/plain": [
              "<Figure size 432x288 with 1 Axes>"
            ]
          },
          "metadata": {
            "tags": [],
            "needs_background": "light"
          }
        }
      ]
    },
    {
      "cell_type": "code",
      "metadata": {
        "id": "S2fdEZq2ldRA",
        "colab_type": "code",
        "colab": {
          "base_uri": "https://localhost:8080/",
          "height": 313
        },
        "outputId": "3dbff663-5dec-4088-93a1-dc0c63e5ce86"
      },
      "source": [
        "dat=np.linspace(0,len(St_pred)-1,len(St_pred)-1)\n",
        "eps=0.00001\n",
        "\n",
        "plt.plot(dat,np.log10(St_pred[0:len(St_pred)-1]+eps)) #預測人數\n",
        "plt.plot(dat,np.log10(St[0:len(St)-1]+eps))      #實際人數\n",
        "\n",
        "plt.title('S of '+Country[number])\n",
        "plt.xlabel('day')\n",
        "plt.ylabel('log(S)')\n",
        "plt.ylim((0))\n",
        "print('最大誤差',np.linalg.norm((St_pred[0:len(St_pred)-1]-St[0:len(St)-1]),np.inf))"
      ],
      "execution_count": 305,
      "outputs": [
        {
          "output_type": "stream",
          "text": [
            "最大誤差 0.0\n"
          ],
          "name": "stdout"
        },
        {
          "output_type": "display_data",
          "data": {
            "image/png": "[encoded data removed]",
            "text/plain": [
              "<Figure size 432x288 with 1 Axes>"
            ]
          },
          "metadata": {
            "tags": [],
            "needs_background": "light"
          }
        }
      ]
    },
    {
      "cell_type": "code",
      "metadata": {
        "id": "pzn0b1tDmFeN",
        "colab_type": "code",
        "colab": {
          "base_uri": "https://localhost:8080/",
          "height": 313
        },
        "outputId": "9fda9390-cbab-438e-8134-f28d6f9d225f"
      },
      "source": [
        "dat=np.linspace(0,len(Rt_pred)-1,len(Rt_pred)-1)\n",
        "eps=0.00001\n",
        "\n",
        "plt.plot(dat,np.log10(Rt_pred[0:len(Rt_pred)-1]+eps)) #預測人數\n",
        "plt.plot(dat,np.log10(Rt[0:len(Rt)-1]+eps))      #實際人數\n",
        "\n",
        "plt.title('R of '+Country[number])\n",
        "plt.xlabel('day')\n",
        "plt.ylabel('log(R)')\n",
        "plt.ylim((0))\n",
        "print('最大誤差',np.linalg.norm((Rt_pred[0:len(Rt_pred)-1]-Rt[0:len(Rt)-1]),np.inf))\n",
        "\n"
      ],
      "execution_count": 306,
      "outputs": [
        {
          "output_type": "stream",
          "text": [
            "最大誤差 4.429093678481877e-07\n"
          ],
          "name": "stdout"
        },
        {
          "output_type": "display_data",
          "data": {
            "image/png": "[encoded data removed]",
            "text/plain": [
              "<Figure size 432x288 with 1 Axes>"
            ]
          },
          "metadata": {
            "tags": [],
            "needs_background": "light"
          }
        }
      ]
    },
    {
      "cell_type": "markdown",
      "metadata": {
        "id": "94dlVBtp1FnU",
        "colab_type": "text"
      },
      "source": [
        "簡單結論，用固定的參數 beta,gamma,mu 做預測，以長期行為看來是吻合的，但在人數極多時，以一天為單位的人數誤差會較高"
      ]
    },
    {
      "cell_type": "code",
      "metadata": {
        "id": "22H6Q9j2w9Ph",
        "colab_type": "code",
        "colab": {}
      },
      "source": [
        ""
      ],
      "execution_count": null,
      "outputs": []
    }
  ]
}